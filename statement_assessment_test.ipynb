{
 "cells": [
  {
   "cell_type": "code",
   "execution_count": 1,
   "metadata": {
    "scrolled": true
   },
   "outputs": [
    {
     "data": {
      "text/plain": [
       "['start', 's', 'sentence']"
      ]
     },
     "execution_count": 1,
     "metadata": {},
     "output_type": "execute_result"
    }
   ],
   "source": [
    "st = 'Print only the words that start with s in this sentence'\n",
    "[w for w in st.split() if w[0]=='s']"
   ]
  },
  {
   "cell_type": "code",
   "execution_count": 2,
   "metadata": {},
   "outputs": [
    {
     "data": {
      "text/plain": [
       "[0, 2, 4, 6, 8, 10]"
      ]
     },
     "execution_count": 2,
     "metadata": {},
     "output_type": "execute_result"
    }
   ],
   "source": [
    "list(range(0,11,2))"
   ]
  },
  {
   "cell_type": "code",
   "execution_count": 3,
   "metadata": {},
   "outputs": [
    {
     "data": {
      "text/plain": [
       "[0, 1, 2, 3, 4, 5, 6, 7, 8]"
      ]
     },
     "execution_count": 3,
     "metadata": {},
     "output_type": "execute_result"
    }
   ],
   "source": [
    "alist = [1,2,3,4,5,6,7,8,9]\n",
    "list(range(0,len(alist)))"
   ]
  },
  {
   "cell_type": "code",
   "execution_count": 4,
   "metadata": {},
   "outputs": [
    {
     "data": {
      "text/plain": [
       "[3, 6, 9, 12, 15, 18, 21, 24, 27, 30, 33, 36, 39, 42, 45, 48]"
      ]
     },
     "execution_count": 4,
     "metadata": {},
     "output_type": "execute_result"
    }
   ],
   "source": [
    "[num for num in range(1,51) if num%3 ==0]"
   ]
  },
  {
   "cell_type": "code",
   "execution_count": 5,
   "metadata": {
    "scrolled": true
   },
   "outputs": [
    {
     "data": {
      "text/plain": [
       "['word:even!',\n",
       " 'in:even!',\n",
       " 'this:even!',\n",
       " 'sentence:even!',\n",
       " 'that:even!',\n",
       " 'an:even!',\n",
       " 'even:even!',\n",
       " 'number:even!',\n",
       " 'of:even!']"
      ]
     },
     "execution_count": 5,
     "metadata": {},
     "output_type": "execute_result"
    }
   ],
   "source": [
    "st = 'Print every word in this sentence that has an even number of letters'\n",
    "[w+\":even!\" for w in st.split() if len(w)%2==0]"
   ]
  },
  {
   "cell_type": "code",
   "execution_count": 6,
   "metadata": {},
   "outputs": [],
   "source": [
    "import random as random\n",
    "def guessing_game():\n",
    "    # get random int\n",
    "    goal = random.randint(1,100)\n",
    "    print(goal)\n",
    "    guess_nums = [0]\n",
    "    print('The game is starting:')\n",
    "    # print out the game rules\n",
    "    while True:\n",
    "        num = int(input('Please guess a number between 1 to 100:'))\n",
    "        \n",
    "        if num < 1 or num > 100:\n",
    "            print('OUT OF BOUNDS!!! (1~~100)')\n",
    "            continue\n",
    "        if num == goal:\n",
    "            print('WINNER ~~~~~ {}'.format(len(guess_nums)))\n",
    "            break\n",
    "            \n",
    "        guess_nums.append(num)\n",
    "        \n",
    "        if guess_nums[-2]:\n",
    "            if abs(guess_nums[-2] - goal) < abs(num - goal):\n",
    "                print('WARMER!')\n",
    "            else:\n",
    "                print('COLDER!')\n",
    "        else:\n",
    "            if abs(num-goal) <= 10:\n",
    "                print('WARM!')\n",
    "            else:\n",
    "                print('COLD!')\n",
    "\n",
    "        \n",
    "            \n",
    "            "
   ]
  },
  {
   "cell_type": "code",
   "execution_count": 7,
   "metadata": {},
   "outputs": [],
   "source": [
    "# guessing_game()"
   ]
  },
  {
   "cell_type": "code",
   "execution_count": null,
   "metadata": {},
   "outputs": [],
   "source": []
  }
 ],
 "metadata": {
  "kernelspec": {
   "display_name": "Python 3 (ipykernel)",
   "language": "python",
   "name": "python3"
  },
  "language_info": {
   "codemirror_mode": {
    "name": "ipython",
    "version": 3
   },
   "file_extension": ".py",
   "mimetype": "text/x-python",
   "name": "python",
   "nbconvert_exporter": "python",
   "pygments_lexer": "ipython3",
   "version": "3.12.2"
  }
 },
 "nbformat": 4,
 "nbformat_minor": 4
}
