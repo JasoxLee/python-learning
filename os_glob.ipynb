{
 "cells": [
  {
   "cell_type": "code",
   "execution_count": 2,
   "id": "cb855514-9666-4f0f-8f38-690a676e6c07",
   "metadata": {},
   "outputs": [
    {
     "name": "stdout",
     "output_type": "stream",
     "text": [
      "135\n"
     ]
    }
   ],
   "source": [
    "# list of all files in dictionary\n",
    "import os\n",
    "from glob import glob\n",
    "PATH = \"/home/nli31/github/ecg/PhysioCrowd/icd-ecg-data-mar-24\"\n",
    "EXT = \"*.hea\"\n",
    "all_files = [file for path, subdir, files in os.walk(PATH) for file in glob(os.path.join(path, EXT))]\n",
    "print(len(all_files))\n",
    "\n",
    "# Above line written in typical python style can be rewritten as below.\n",
    "# all_files = []\n",
    "# for path, subdir, files in os.walk(PATH):\n",
    "#     for file in glob(os.path.join(path, EXT)):\n",
    "#         all_files.append(file)\n",
    "\n"
   ]
  },
  {
   "cell_type": "code",
   "execution_count": null,
   "id": "dc712b4b-d1b4-46d5-8e47-9e9413f1e9bf",
   "metadata": {},
   "outputs": [],
   "source": []
  }
 ],
 "metadata": {
  "kernelspec": {
   "display_name": "Python 3 (ipykernel)",
   "language": "python",
   "name": "python3"
  },
  "language_info": {
   "codemirror_mode": {
    "name": "ipython",
    "version": 3
   },
   "file_extension": ".py",
   "mimetype": "text/x-python",
   "name": "python",
   "nbconvert_exporter": "python",
   "pygments_lexer": "ipython3",
   "version": "3.12.2"
  }
 },
 "nbformat": 4,
 "nbformat_minor": 5
}
