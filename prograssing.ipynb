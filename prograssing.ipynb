{
 "cells": [
  {
   "cell_type": "code",
   "execution_count": 3,
   "id": "cb93bfdd-3cb5-44d4-8c37-a792092dad63",
   "metadata": {},
   "outputs": [
    {
     "name": "stdout",
     "output_type": "stream",
     "text": [
      "\n",
      "Done!\n"
     ]
    }
   ],
   "source": [
    "r = 10000\n",
    "for i in range(r):\n",
    "    for j in range(r):\n",
    "        k = j * i\n",
    "print(f'\\nDone!')"
   ]
  },
  {
   "cell_type": "code",
   "execution_count": 5,
   "id": "0f21c648-2e0f-45a4-bf4c-e44f0841339d",
   "metadata": {},
   "outputs": [
    {
     "name": "stdout",
     "output_type": "stream",
     "text": [
      "9999.0 / 10000\n",
      "Done!\n"
     ]
    }
   ],
   "source": [
    "# f-string with '\\r'\n",
    "r = 10000\n",
    "for i in range(r):\n",
    "    for j in range(r):\n",
    "        k = j * i\n",
    "    print(f'{i / 1} / {r}', end='\\r')\n",
    "print(f'Done!', end='\\r')"
   ]
  },
  {
   "cell_type": "code",
   "execution_count": 14,
   "id": "e337b690-cb7f-4d62-9e0f-ec6ad273a1d5",
   "metadata": {},
   "outputs": [
    {
     "name": "stdout",
     "output_type": "stream",
     "text": [
      "progress |██████████████████████████████████████████████████| 100%\n",
      "Done!\r"
     ]
    }
   ],
   "source": [
    "# self-made progress bar\n",
    "r = 10000\n",
    "bar = '.'\n",
    "bar = '_'\n",
    "bar = '~'\n",
    "bar = '▄'\n",
    "bar = '█'\n",
    "for i in range(r):\n",
    "    for j in range(r):\n",
    "        k = j * i\n",
    "    print('progress',\n",
    "        f'|{bar * ((i + 1) * 50 // r):50}|',\n",
    "        f'{(i + 1)* 100 // r}%',\n",
    "        end='\\r')\n",
    "print(f'\\nDone!', end='\\r')"
   ]
  },
  {
   "cell_type": "code",
   "execution_count": 15,
   "id": "95496c06-f815-4d41-84b2-d219867dc33b",
   "metadata": {},
   "outputs": [
    {
     "name": "stdout",
     "output_type": "stream",
     "text": [
      "\n",
      "Done!\r"
     ]
    }
   ],
   "source": [
    "# progress lib - pip install progress\n",
    "from progress.bar import Bar\n",
    "r = 10000\n",
    "with Bar('progress', max=r) as bar:\n",
    "    for i in range(r):\n",
    "        for j in range(r):\n",
    "            k = i * j\n",
    "        bar.next()\n",
    "print(f'\\nDone!', end='\\r')\n",
    "        "
   ]
  },
  {
   "cell_type": "code",
   "execution_count": 24,
   "id": "dda9e607-9dd8-47cf-9b56-835c6c556d00",
   "metadata": {},
   "outputs": [
    {
     "name": "stderr",
     "output_type": "stream",
     "text": [
      "\n",
      "\n",
      "  0%|                                                 | 0/10000 [00:00<?, ?it/s]\u001b[A\u001b[A\n",
      "\n",
      "  2%|▊                                    | 224/10000 [00:00<00:04, 2232.51it/s]\u001b[A\u001b[A\n",
      "\n",
      "  5%|█▊                                   | 475/10000 [00:00<00:03, 2393.49it/s]\u001b[A\u001b[A\n",
      "\n",
      "  7%|██▋                                  | 715/10000 [00:00<00:03, 2382.45it/s]\u001b[A\u001b[A\n",
      "\n",
      " 10%|███▌                                 | 954/10000 [00:00<00:03, 2345.09it/s]\u001b[A\u001b[A\n",
      "\n",
      " 12%|████▎                               | 1207/10000 [00:00<00:03, 2408.93it/s]\u001b[A\u001b[A\n",
      "\n",
      " 15%|█████▎                              | 1460/10000 [00:00<00:03, 2447.60it/s]\u001b[A\u001b[A\n",
      "\n",
      " 17%|██████▏                             | 1705/10000 [00:00<00:03, 2445.04it/s]\u001b[A\u001b[A\n",
      "\n",
      " 20%|███████                             | 1959/10000 [00:00<00:03, 2474.31it/s]\u001b[A\u001b[A\n",
      "\n",
      " 22%|███████▉                            | 2207/10000 [00:00<00:03, 2414.84it/s]\u001b[A\u001b[A\n",
      "\n",
      " 25%|████████▊                           | 2454/10000 [00:01<00:03, 2431.41it/s]\u001b[A\u001b[A\n",
      "\n",
      " 27%|█████████▋                          | 2704/10000 [00:01<00:02, 2451.46it/s]\u001b[A\u001b[A\n",
      "\n",
      " 30%|██████████▋                         | 2955/10000 [00:01<00:02, 2466.98it/s]\u001b[A\u001b[A\n",
      "\n",
      " 32%|███████████▌                        | 3202/10000 [00:01<00:02, 2457.91it/s]\u001b[A\u001b[A\n",
      "\n",
      " 34%|████████████▍                       | 3450/10000 [00:01<00:02, 2463.60it/s]\u001b[A\u001b[A\n",
      "\n",
      " 37%|█████████████▎                      | 3697/10000 [00:01<00:02, 2450.87it/s]\u001b[A\u001b[A\n",
      "\n",
      " 39%|██████████████▏                     | 3943/10000 [00:01<00:02, 2441.22it/s]\u001b[A\u001b[A\n",
      "\n",
      " 42%|███████████████                     | 4188/10000 [00:01<00:02, 2406.11it/s]\u001b[A\u001b[A\n",
      "\n",
      " 44%|███████████████▉                    | 4437/10000 [00:01<00:02, 2428.05it/s]\u001b[A\u001b[A\n",
      "\n",
      " 47%|████████████████▉                   | 4690/10000 [00:01<00:02, 2456.86it/s]\u001b[A\u001b[A\n",
      "\n",
      " 49%|█████████████████▊                  | 4941/10000 [00:02<00:02, 2471.71it/s]\u001b[A\u001b[A\n",
      "\n",
      " 52%|██████████████████▋                 | 5194/10000 [00:02<00:01, 2488.28it/s]\u001b[A\u001b[A\n",
      "\n",
      " 54%|███████████████████▌                | 5448/10000 [00:02<00:01, 2502.35it/s]\u001b[A\u001b[A\n",
      "\n",
      " 57%|████████████████████▌               | 5700/10000 [00:02<00:01, 2506.68it/s]\u001b[A\u001b[A\n",
      "\n",
      " 60%|█████████████████████▍              | 5953/10000 [00:02<00:01, 2511.97it/s]\u001b[A\u001b[A\n",
      "\n",
      " 62%|██████████████████████▎             | 6206/10000 [00:02<00:01, 2515.99it/s]\u001b[A\u001b[A\n",
      "\n",
      " 65%|███████████████████████▎            | 6459/10000 [00:02<00:01, 2517.94it/s]\u001b[A\u001b[A\n",
      "\n",
      " 67%|████████████████████████▏           | 6711/10000 [00:02<00:01, 2412.38it/s]\u001b[A\u001b[A\n",
      "\n",
      " 70%|█████████████████████████           | 6957/10000 [00:02<00:01, 2424.92it/s]\u001b[A\u001b[A\n",
      "\n",
      " 72%|█████████████████████████▉          | 7205/10000 [00:02<00:01, 2440.08it/s]\u001b[A\u001b[A\n",
      "\n",
      " 75%|██████████████████████████▊         | 7451/10000 [00:03<00:01, 2444.32it/s]\u001b[A\u001b[A\n",
      "\n",
      " 77%|███████████████████████████▋        | 7699/10000 [00:03<00:00, 2452.35it/s]\u001b[A\u001b[A\n",
      "\n",
      " 80%|████████████████████████████▋       | 7952/10000 [00:03<00:00, 2473.56it/s]\u001b[A\u001b[A\n",
      "\n",
      " 82%|█████████████████████████████▌      | 8206/10000 [00:03<00:00, 2492.89it/s]\u001b[A\u001b[A\n",
      "\n",
      " 85%|██████████████████████████████▍     | 8461/10000 [00:03<00:00, 2509.21it/s]\u001b[A\u001b[A\n",
      "\n",
      " 87%|███████████████████████████████▎    | 8713/10000 [00:03<00:00, 2506.33it/s]\u001b[A\u001b[A\n",
      "\n",
      " 90%|████████████████████████████████▎   | 8968/10000 [00:03<00:00, 2516.82it/s]\u001b[A\u001b[A\n",
      "\n",
      " 92%|█████████████████████████████████▏  | 9220/10000 [00:03<00:00, 2507.91it/s]\u001b[A\u001b[A\n",
      "\n",
      " 95%|██████████████████████████████████  | 9473/10000 [00:03<00:00, 2513.99it/s]\u001b[A\u001b[A\n",
      "\n",
      " 97%|███████████████████████████████████ | 9725/10000 [00:03<00:00, 2436.70it/s]\u001b[A\u001b[A\n",
      "\n",
      "100%|███████████████████████████████████| 10000/10000 [00:04<00:00, 2458.72it/s]\u001b[A\u001b[A\n"
     ]
    }
   ],
   "source": [
    "# tqdm\n",
    "from tqdm import trange\n",
    "#tqdm\n",
    "from time import sleep\n",
    "# from tqdm.rich import trange\n",
    "# from tqdm.notebook import trange\n",
    "# from tqdm.tk import trange\n",
    "r = 10000\n",
    "for i in trange(r):\n",
    "    for j in range(r):\n",
    "        k = i * j\n",
    "# print(f'\\nDone!', end='\\r')\n",
    "\n",
    "\n",
    "\n",
    "\n",
    "\n"
   ]
  },
  {
   "cell_type": "code",
   "execution_count": 26,
   "id": "ff1f007f-ebdb-45d2-9c16-28aa3f39ba6c",
   "metadata": {},
   "outputs": [
    {
     "name": "stderr",
     "output_type": "stream",
     "text": [
      "\n",
      "\n",
      "  0%|                                                   | 0/100 [00:00<?, ?it/s]\u001b[A\u001b[A\n",
      "\n",
      "test01:   0%|                                           | 0/100 [00:00<?, ?it/s]\u001b[A\u001b[A\n",
      "\n",
      "test01:  10%|███▍                              | 10/100 [00:00<00:04, 19.95it/s]\u001b[A\u001b[A\n",
      "\n",
      "test02:  10%|███▍                              | 10/100 [00:00<00:04, 19.95it/s]\u001b[A\u001b[A\n",
      "\n",
      "test02:  20%|██████▊                           | 20/100 [00:01<00:04, 19.80it/s]\u001b[A\u001b[A\n",
      "\n",
      "test03:  20%|██████▊                           | 20/100 [00:01<00:04, 19.80it/s]\u001b[A\u001b[A\n",
      "\n",
      "test03:  35%|███████████▉                      | 35/100 [00:01<00:02, 24.28it/s]\u001b[A\u001b[A\n",
      "\n",
      "test04:  35%|███████████▉                      | 35/100 [00:01<00:02, 24.28it/s]\u001b[A\u001b[A\n",
      "\n",
      "test04:  50%|█████████████████                 | 50/100 [00:02<00:01, 26.32it/s]\u001b[A\u001b[A\n",
      "\n",
      "test05:  50%|█████████████████                 | 50/100 [00:02<00:01, 26.32it/s]\u001b[A\u001b[A\n",
      "\n",
      "test05:  55%|██████████████████▋               | 55/100 [00:02<00:02, 20.39it/s]\u001b[A\u001b[A\n",
      "\n",
      "test06:  55%|██████████████████▋               | 55/100 [00:02<00:02, 20.39it/s]\u001b[A\u001b[A\n",
      "\n",
      "test06: : 115it [00:03, 53.63it/s]                                              \u001b[A\u001b[A\n",
      "\n",
      "test07: : 116it [00:06, 19.20it/s]\u001b[A\u001b[A"
     ]
    },
    {
     "name": "stdout",
     "output_type": "stream",
     "text": [
      "\n",
      "Done!\r"
     ]
    },
    {
     "name": "stderr",
     "output_type": "stream",
     "text": [
      "\n"
     ]
    }
   ],
   "source": [
    "from tqdm import tqdm\n",
    "bar = tqdm(total=100)\n",
    "\n",
    "bar.set_description('test01')\n",
    "sleep(0.5)\n",
    "bar.update(10)\n",
    "\n",
    "bar.set_description('test02')\n",
    "sleep(0.5)\n",
    "bar.update(10)\n",
    "\n",
    "bar.set_description('test03')\n",
    "sleep(0.5)\n",
    "bar.update(15)\n",
    "\n",
    "bar.set_description('test04')\n",
    "sleep(0.5)\n",
    "bar.update(15)\n",
    "\n",
    "bar.set_description('test05')\n",
    "sleep(0.5)\n",
    "bar.update(5)\n",
    "\n",
    "bar.set_description('test06')\n",
    "sleep(0.5)\n",
    "bar.update(60)\n",
    "\n",
    "\n",
    "bar.set_description('test07')\n",
    "sleep(3)\n",
    "bar.update(1)\n",
    "bar.close()\n",
    "\n",
    "print('\\nDone!', end='\\r')"
   ]
  },
  {
   "cell_type": "code",
   "execution_count": 27,
   "id": "3c93747d-daad-45df-b8d2-0d608b2a4241",
   "metadata": {},
   "outputs": [
    {
     "name": "stdout",
     "output_type": "stream",
     "text": [
      "|████████████████████████████████████████| 10000/10000 [100%] in 4.0s (2484.96/s) \n",
      "\n",
      "Done!\r"
     ]
    }
   ],
   "source": [
    "# alive-progress\n",
    "from alive_progress import alive_bar\n",
    "r = 10000\n",
    "with alive_bar(r) as bar:\n",
    "    for i in range(r):\n",
    "        for j in range(r):\n",
    "            k = i * j\n",
    "        bar()\n",
    "print(f'\\nDone!', end='\\r')"
   ]
  },
  {
   "cell_type": "code",
   "execution_count": 28,
   "id": "d76e3789-a1ca-4354-96f5-62624d6f7632",
   "metadata": {},
   "outputs": [
    {
     "ename": "UserWarning",
     "evalue": "This must be run on a tty connected terminal.",
     "output_type": "error",
     "traceback": [
      "\u001b[0;31m---------------------------------------------------------------------------\u001b[0m",
      "\u001b[0;31mUserWarning\u001b[0m                               Traceback (most recent call last)",
      "Cell \u001b[0;32mIn[28], line 3\u001b[0m\n\u001b[1;32m      1\u001b[0m \u001b[38;5;28;01mfrom\u001b[39;00m \u001b[38;5;21;01malive_progress\u001b[39;00m\u001b[38;5;21;01m.\u001b[39;00m\u001b[38;5;21;01mstyles\u001b[39;00m \u001b[38;5;28;01mimport\u001b[39;00m showtime\n\u001b[0;32m----> 3\u001b[0m \u001b[43mshowtime\u001b[49m\u001b[43m(\u001b[49m\u001b[43m)\u001b[49m\n",
      "File \u001b[0;32m~/miniforge3/envs/jupyterlab3.12/lib/python3.12/site-packages/alive_progress/styles/exhibit.py:36\u001b[0m, in \u001b[0;36mshowtime\u001b[0;34m(show, fps, length, pattern)\u001b[0m\n\u001b[1;32m     29\u001b[0m show_funcs \u001b[38;5;241m=\u001b[39m {\n\u001b[1;32m     30\u001b[0m     Show\u001b[38;5;241m.\u001b[39mSPINNERS: show_spinners,\n\u001b[1;32m     31\u001b[0m     Show\u001b[38;5;241m.\u001b[39mBARS: show_bars,\n\u001b[1;32m     32\u001b[0m     Show\u001b[38;5;241m.\u001b[39mTHEMES: show_themes,\n\u001b[1;32m     33\u001b[0m }\n\u001b[1;32m     34\u001b[0m \u001b[38;5;28;01massert\u001b[39;00m show \u001b[38;5;129;01min\u001b[39;00m show_funcs, \u001b[38;5;124m'\u001b[39m\u001b[38;5;124mWhich show do you want? We have Show.SPINNERS, Show.BARS, and \u001b[39m\u001b[38;5;124m'\u001b[39m \\\n\u001b[1;32m     35\u001b[0m                            \u001b[38;5;124m'\u001b[39m\u001b[38;5;124mShow.THEMES.\u001b[39m\u001b[38;5;124m'\u001b[39m\n\u001b[0;32m---> 36\u001b[0m \u001b[43mshow_funcs\u001b[49m\u001b[43m[\u001b[49m\u001b[43mshow\u001b[49m\u001b[43m]\u001b[49m\u001b[43m(\u001b[49m\u001b[43mfps\u001b[49m\u001b[38;5;241;43m=\u001b[39;49m\u001b[43mfps\u001b[49m\u001b[43m,\u001b[49m\u001b[43m \u001b[49m\u001b[43mlength\u001b[49m\u001b[38;5;241;43m=\u001b[39;49m\u001b[43mlength\u001b[49m\u001b[43m,\u001b[49m\u001b[43m \u001b[49m\u001b[43mpattern\u001b[49m\u001b[38;5;241;43m=\u001b[39;49m\u001b[43mpattern\u001b[49m\u001b[43m)\u001b[49m\n",
      "File \u001b[0;32m~/miniforge3/envs/jupyterlab3.12/lib/python3.12/site-packages/alive_progress/styles/exhibit.py:70\u001b[0m, in \u001b[0;36mshow_spinners\u001b[0;34m(fps, length, pattern)\u001b[0m\n\u001b[1;32m     54\u001b[0m gens \u001b[38;5;241m=\u001b[39m [_spinner_gen(\u001b[38;5;124mf\u001b[39m\u001b[38;5;124m'\u001b[39m\u001b[38;5;132;01m{\u001b[39;00mk\u001b[38;5;132;01m:\u001b[39;00m\u001b[38;5;124m^\u001b[39m\u001b[38;5;132;01m{\u001b[39;00mmax_name_length\u001b[38;5;132;01m}\u001b[39;00m\u001b[38;5;132;01m}\u001b[39;00m\u001b[38;5;124m'\u001b[39m, s, max_natural) \u001b[38;5;28;01mfor\u001b[39;00m k, s \u001b[38;5;129;01min\u001b[39;00m selected\u001b[38;5;241m.\u001b[39mitems()]\n\u001b[1;32m     55\u001b[0m info \u001b[38;5;241m=\u001b[39m Info(\n\u001b[1;32m     56\u001b[0m     title\u001b[38;5;241m=\u001b[39m(\u001b[38;5;124m'\u001b[39m\u001b[38;5;124mSpinners\u001b[39m\u001b[38;5;124m'\u001b[39m, \u001b[38;5;124m'\u001b[39m\u001b[38;5;124mincluding their unknown bar renditions\u001b[39m\u001b[38;5;124m'\u001b[39m),\n\u001b[1;32m     57\u001b[0m     descr\u001b[38;5;241m=\u001b[39m(\u001b[38;5;124m'\u001b[39m\u001b[38;5;124mSpinners generate and run fluid animations, with a plethora of special effects,\u001b[39m\u001b[38;5;124m'\u001b[39m\n\u001b[0;32m   (...)\u001b[0m\n\u001b[1;32m     68\u001b[0m           \u001b[38;5;124m'\u001b[39m\u001b[38;5;124mA spinner have a specific \u001b[39m\u001b[38;5;124m\"\u001b[39m\u001b[38;5;124mnatural\u001b[39m\u001b[38;5;124m\"\u001b[39m\u001b[38;5;124m length, and know how to spread its contents over\u001b[39m\u001b[38;5;124m'\u001b[39m\n\u001b[1;32m     69\u001b[0m           \u001b[38;5;124m'\u001b[39m\u001b[38;5;124m any desired space.\u001b[39m\u001b[38;5;124m'\u001b[39m,))\n\u001b[0;32m---> 70\u001b[0m \u001b[43m_showtime_gen\u001b[49m\u001b[43m(\u001b[49m\u001b[43mfps\u001b[49m\u001b[43m,\u001b[49m\u001b[43m \u001b[49m\u001b[43mgens\u001b[49m\u001b[43m,\u001b[49m\u001b[43m \u001b[49m\u001b[43minfo\u001b[49m\u001b[43m,\u001b[49m\u001b[43m \u001b[49m\u001b[43mlength\u001b[49m\u001b[43m)\u001b[49m\n",
      "File \u001b[0;32m~/miniforge3/envs/jupyterlab3.12/lib/python3.12/site-packages/alive_progress/styles/exhibit.py:139\u001b[0m, in \u001b[0;36m_showtime_gen\u001b[0;34m(fps, gens, info, length)\u001b[0m\n\u001b[1;32m    137\u001b[0m \u001b[38;5;28;01mdef\u001b[39;00m \u001b[38;5;21m_showtime_gen\u001b[39m(fps, gens, info, length):\n\u001b[1;32m    138\u001b[0m     \u001b[38;5;28;01mif\u001b[39;00m \u001b[38;5;129;01mnot\u001b[39;00m sys\u001b[38;5;241m.\u001b[39mstdout\u001b[38;5;241m.\u001b[39misatty():\n\u001b[0;32m--> 139\u001b[0m         \u001b[38;5;28;01mraise\u001b[39;00m \u001b[38;5;167;01mUserWarning\u001b[39;00m(\u001b[38;5;124m'\u001b[39m\u001b[38;5;124mThis must be run on a tty connected terminal.\u001b[39m\u001b[38;5;124m'\u001b[39m)\n\u001b[1;32m    141\u001b[0m     \u001b[38;5;28;01mdef\u001b[39;00m \u001b[38;5;21mtitle\u001b[39m(t, r\u001b[38;5;241m=\u001b[39m\u001b[38;5;28;01mFalse\u001b[39;00m):\n\u001b[1;32m    142\u001b[0m         \u001b[38;5;28;01mreturn\u001b[39;00m scrolling_spinner_factory(t, right\u001b[38;5;241m=\u001b[39mr, wrap\u001b[38;5;241m=\u001b[39m\u001b[38;5;28;01mFalse\u001b[39;00m)\u001b[38;5;241m.\u001b[39mpause(center\u001b[38;5;241m=\u001b[39m\u001b[38;5;241m12\u001b[39m),  \u001b[38;5;66;03m# 1-tuple.\u001b[39;00m\n",
      "\u001b[0;31mUserWarning\u001b[0m: This must be run on a tty connected terminal."
     ]
    }
   ],
   "source": [
    "from alive_progress.styles import showtime\n",
    "showtime()"
   ]
  },
  {
   "cell_type": "code",
   "execution_count": null,
   "id": "ba10b2cb-368c-4760-8787-31e3e3c0ea77",
   "metadata": {},
   "outputs": [],
   "source": []
  }
 ],
 "metadata": {
  "kernelspec": {
   "display_name": "Python 3 (ipykernel)",
   "language": "python",
   "name": "python3"
  },
  "language_info": {
   "codemirror_mode": {
    "name": "ipython",
    "version": 3
   },
   "file_extension": ".py",
   "mimetype": "text/x-python",
   "name": "python",
   "nbconvert_exporter": "python",
   "pygments_lexer": "ipython3",
   "version": "3.12.2"
  }
 },
 "nbformat": 4,
 "nbformat_minor": 5
}
