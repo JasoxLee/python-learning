{
 "cells": [
  {
   "cell_type": "code",
   "execution_count": 7,
   "metadata": {},
   "outputs": [],
   "source": [
    "import math\n",
    "import matplotlib.pyplot as plt\n",
    "import numpy as np\n",
    "import pandas as pd\n",
    "from skimage.io import imread\n",
    "from skimage.draw import ellipse\n",
    "from skimage.measure import label, regionprops, regionprops_table\n",
    "from skimage.transform import rotate\n",
    "image = np.zeros((600, 600))\n",
    "\n",
    "rr, cc = ellipse(300, 350, 100, 220)\n",
    "image[rr, cc] = 1\n",
    "\n",
    "image = rotate(image, angle=15, order=0)\n",
    "\n",
    "rr, cc = ellipse(100, 100, 60, 50)\n",
    "image[rr, cc] = 1\n",
    "\n",
    "label_img = label(image)\n",
    "regions = regionprops(label_img)\n"
   ]
  },
  {
   "cell_type": "code",
   "execution_count": 6,
   "metadata": {},
   "outputs": [
    {
     "data": {
      "image/png": "[encoded data removed]",
      "text/plain": [
       "<Figure size 640x480 with 1 Axes>"
      ]
     },
     "metadata": {},
     "output_type": "display_data"
    }
   ],
   "source": [
    "fig, ax = plt.subplots()\n",
    "ax.imshow(image, cmap=plt.cm.gray)\n",
    "\n",
    "for props in regions:\n",
    "    y0, x0 = props.centroid\n",
    "    orientation = props.orientation\n",
    "    x1 = x0 + math.cos(orientation) * 0.5 * props.axis_minor_length\n",
    "    y1 = y0 - math.sin(orientation) * 0.5 * props.axis_minor_length\n",
    "    x2 = x0 - math.sin(orientation) * 0.5 * props.axis_major_length\n",
    "    y2 = y0 - math.cos(orientation) * 0.5 * props.axis_major_length\n",
    "\n",
    "    ax.plot((x0, x1), (y0, y1), '-r', linewidth=2.5)\n",
    "    ax.plot((x0, x2), (y0, y2), '-r', linewidth=2.5)\n",
    "    ax.plot(x0, y0, '.g', markersize=15)\n",
    "\n",
    "    minr, minc, maxr, maxc = props.bbox\n",
    "    bx = (minc, maxc, maxc, minc, minc)\n",
    "    by = (minr, minr, maxr, maxr, minr)\n",
    "    ax.plot(bx, by, '-b', linewidth=2.5)\n",
    "\n",
    "ax.axis((0, 600, 600, 0))\n",
    "plt.show()"
   ]
  },
  {
   "cell_type": "code",
   "execution_count": 57,
   "metadata": {},
   "outputs": [
    {
     "name": "stdout",
     "output_type": "stream",
     "text": [
      "<class 'numpy.ndarray'>\n",
      "3\n",
      "5547737.0\n",
      "29131.0\n",
      "20879.0\n"
     ]
    }
   ],
   "source": [
    "import os\n",
    "image_path = '/home/nli31/github/nanli-emory/HistoQC/histoqc_output_20240508-154020/PC_227_2_1.svs/PC_227_2_1.svs_mask_use.png'\n",
    "img = imread(image_path)\n",
    "print(type(img))\n",
    "label_img = label(img)\n",
    "regions = regionprops(label_img)\n",
    "print(len(regions))\n",
    "for props in regions:\n",
    "    print(props.area)\n",
    "# tables = regionprops_table(label_img, properties = properties)\n",
    "# tables = regionprops_table(\n",
    "#     label_img,\n",
    "#     properties=('area','area_bbox','axis_major_length' )\n",
    "# )\n",
    "# pd.DataFrame(tables)\n",
    "# r = regions[0]\n",
    "# lst = [attr for attr in dir(r)]\n",
    "# print(lst)\n",
    "\n"
   ]
  },
  {
   "cell_type": "code",
   "execution_count": 54,
   "metadata": {},
   "outputs": [
    {
     "name": "stdout",
     "output_type": "stream",
     "text": [
      "{'num': 1, 'min_area': 10, 'max_area': 100, 'mean_area': 50}\n",
      "1 10 100 50\n",
      "<class 'dict'>\n"
     ]
    }
   ],
   "source": [
    "num = 1\n",
    "min_area = 10\n",
    "max_area = 100\n",
    "mean_area = 50\n",
    "\n",
    "d = {'num': num, 'min_area': min_area, 'max_area': max_area, 'mean_area': mean_area}\n",
    "print(d)\n",
    "x,y,z,e = d.values()\n",
    "print(x,y,z,e)\n",
    "print(type(d))\n"
   ]
  },
  {
   "cell_type": "code",
   "execution_count": 48,
   "metadata": {},
   "outputs": [
    {
     "name": "stdout",
     "output_type": "stream",
     "text": [
      "[90, 99, 10, 10, 63, 4, 42, 72, 91, 97]\n"
     ]
    },
    {
     "data": {
      "text/plain": [
       "[90, 99, 63, 72, 91, 97]"
      ]
     },
     "execution_count": 48,
     "metadata": {},
     "output_type": "execute_result"
    }
   ],
   "source": [
    "import random\n",
    "d = [random.randint(0, 100) for i in range(10)]\n",
    "print(d)\n",
    "[e for e in d if e > 50]"
   ]
  },
  {
   "cell_type": "code",
   "execution_count": null,
   "metadata": {},
   "outputs": [],
   "source": []
  }
 ],
 "metadata": {
  "kernelspec": {
   "display_name": "Python 3 (ipykernel)",
   "language": "python",
   "name": "python3"
  },
  "language_info": {
   "codemirror_mode": {
    "name": "ipython",
    "version": 3
   },
   "file_extension": ".py",
   "mimetype": "text/x-python",
   "name": "python",
   "nbconvert_exporter": "python",
   "pygments_lexer": "ipython3",
   "version": "3.12.2"
  }
 },
 "nbformat": 4,
 "nbformat_minor": 2
}
