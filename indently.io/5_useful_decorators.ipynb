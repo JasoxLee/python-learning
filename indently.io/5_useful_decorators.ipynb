{
 "cells": [
  {
   "cell_type": "code",
   "execution_count": 17,
   "id": "9450123d-20d1-451e-ac49-9d03613d378c",
   "metadata": {},
   "outputs": [
    {
     "name": "stdout",
     "output_type": "stream",
     "text": [
      "Running (1): connect()\n",
      "Error: Exception('Could not connect to internet...') -> Retrying...\n",
      "Running (2): connect()\n",
      "Error: Exception('Could not connect to internet...') -> Retrying...\n",
      "Running (3): connect()\n",
      "Error: Exception('Could not connect to internet...').\n",
      "\"connect()\" failed after 3 retries.\n"
     ]
    }
   ],
   "source": [
    "import time\n",
    "from functools import wraps\n",
    "from typing import Callable, Any\n",
    "from time import sleep\n",
    "\n",
    "\n",
    "def retry(retries: int = 3, delay: float = 1) -> Callable:\n",
    "    \"\"\"\n",
    "    Attempt to call a function, if it fails, try again with a specified delay.\n",
    "\n",
    "    :param retries: The max amount of retries you want for the function call\n",
    "    :param delay: The delay (in seconds) between each function retry\n",
    "    :return:\n",
    "    \"\"\"\n",
    "\n",
    "    # Don't let the user use this decorator if they are high\n",
    "    if retries < 1 or delay <= 0:\n",
    "        raise ValueError('Are you high, mate?')\n",
    "\n",
    "    def decorator(func: Callable) -> Callable:\n",
    "        @wraps(func)\n",
    "        def wrapper(*args, **kwargs) -> Any:\n",
    "            for i in range(1, retries + 1):  # 1 to retries + 1 since upper bound is exclusive\n",
    "\n",
    "                try:\n",
    "                    print(f'Running ({i}): {func.__name__}()')\n",
    "                    return func(*args, **kwargs)\n",
    "                except Exception as e:\n",
    "                    # Break out of the loop if the max amount of retries is exceeded\n",
    "                    if i == retries:\n",
    "                        print(f'Error: {repr(e)}.')\n",
    "                        print(f'\"{func.__name__}()\" failed after {retries} retries.')\n",
    "                        break\n",
    "                    else:\n",
    "                        print(f'Error: {repr(e)} -> Retrying...')\n",
    "                        sleep(delay)  # Add a delay before running the next iteration\n",
    "\n",
    "        return wrapper\n",
    "\n",
    "    return decorator\n",
    "\n",
    "\n",
    "@retry(retries=3, delay=1)\n",
    "def connect() -> None:\n",
    "    time.sleep(1)\n",
    "    raise Exception('Could not connect to internet...')\n",
    "\n",
    "\n",
    "connect()\n"
   ]
  },
  {
   "cell_type": "code",
   "execution_count": 14,
   "id": "ffd6beeb-8a71-42b7-8233-35cee24cca61",
   "metadata": {},
   "outputs": [],
   "source": [
    "import time\n",
    "from functools import cache\n",
    "\n",
    "@cache\n",
    "def count_vowels(text: str) -> int:\n",
    "    \"\"\"\n",
    "    A function that counts all the vowels in a given string.\n",
    "\n",
    "    :param text: The string to analyse\n",
    "    :return: The amount of vowels as an integer\n",
    "    \"\"\"\n",
    "    vowel_count: int = 0\n",
    "\n",
    "    # Pretend it's an expensive operation\n",
    "    print(f'Bot: Counting vowels in: \"{text}\"...')\n",
    "    time.sleep(2)\n",
    "\n",
    "    # Count those damn vowels\n",
    "    for letter in text:\n",
    "        if letter in 'aeiouAEIOU':\n",
    "            vowel_count += 1\n",
    "\n",
    "    return vowel_count\n",
    "\n",
    "\n",
    "while False:\n",
    "    user_input: str = input('You: ')\n",
    "\n",
    "    if user_input == '!info':\n",
    "        print(f'Bot: {count_vowels.cache_info()}')\n",
    "    elif user_input == '!clear':\n",
    "        print('Bot: Cache cleared!')\n",
    "        count_vowels.cache_clear()\n",
    "    else:\n",
    "        print(f'Bot: \"{user_input}\" contains {count_vowels(user_input)} vowels.')\n",
    "\n",
    "\n"
   ]
  },
  {
   "cell_type": "code",
   "execution_count": 16,
   "id": "2d7cbb54-b5b3-40da-9e77-1db8588197e7",
   "metadata": {},
   "outputs": [
    {
     "name": "stdout",
     "output_type": "stream",
     "text": [
      "Looping...\n",
      "Done looping!\n",
      "\"fifty_million_loops()\" took 0.391 seconds to execute\n",
      "Connecting...\n",
      "Connected!\n",
      "\"connect()\" took 2.000 seconds to execute\n"
     ]
    }
   ],
   "source": [
    "import time\n",
    "from time import perf_counter, sleep\n",
    "from functools import wraps\n",
    "from typing import Callable, Any\n",
    "\n",
    "\n",
    "def get_time(func: Callable) -> Callable:\n",
    "    @wraps(func)\n",
    "    def wrapper(*args, **kwargs) -> Any:\n",
    "\n",
    "        # Note that timing your code once isn't the most reliable option\n",
    "        # for timing your code. Look into the timeit module for more accurate\n",
    "        # timing.\n",
    "        start_time: float = perf_counter()\n",
    "        result: Any = func(*args, **kwargs)\n",
    "        end_time: float = perf_counter()\n",
    "\n",
    "        print(f'\"{func.__name__}()\" took {end_time - start_time:.3f} seconds to execute')\n",
    "        return result\n",
    "\n",
    "    return wrapper\n",
    "\n",
    "\n",
    "# Sample function 1\n",
    "@get_time\n",
    "def connect() -> None:\n",
    "    print('Connecting...')\n",
    "    sleep(2)\n",
    "    print('Connected!')\n",
    "\n",
    "\n",
    "# Sample function 2\n",
    "@get_time\n",
    "def fifty_million_loops() -> None:\n",
    "    fifty_million: int = int(5e7)\n",
    "\n",
    "    print('Looping...')\n",
    "    for _ in range(fifty_million):\n",
    "        pass\n",
    "\n",
    "    print('Done looping!')\n",
    "\n",
    "\n",
    "fifty_million_loops()\n",
    "connect()\n",
    "\n"
   ]
  },
  {
   "cell_type": "code",
   "execution_count": 20,
   "id": "014172db-a72b-4de9-ba4a-5ef97f863828",
   "metadata": {},
   "outputs": [
    {
     "name": "stdout",
     "output_type": "stream",
     "text": [
      "12\n"
     ]
    },
    {
     "name": "stderr",
     "output_type": "stream",
     "text": [
      "/tmp/ipykernel_2030033/1858953943.py:14: DeprecationWarning: Call to deprecated function (or staticmethod) add. (Adding ain't cool no more) -- Deprecated since version 1.0.0.\n",
      "  print(add(5, 7))\n"
     ]
    }
   ],
   "source": [
    "# XXX\n",
    "# XXX TALK ABOUT PEP 702\n",
    "# XXX https://peps.python.org/pep-0702\n",
    "# XXX\n",
    "\n",
    "from deprecated import deprecated\n",
    "\n",
    "\n",
    "@deprecated(\"Adding ain't cool no more\", version=\"1.0.0\")\n",
    "def add(x: int, y: int) -> int:\n",
    "    return x + y\n",
    "\n",
    "\n",
    "print(add(5, 7))"
   ]
  },
  {
   "cell_type": "code",
   "execution_count": 24,
   "id": "392a6ec7-fb71-47bf-ae59-3f761ea8acb0",
   "metadata": {},
   "outputs": [
    {
     "name": "stdout",
     "output_type": "stream",
     "text": [
      "1\n",
      "2\n",
      "4\n",
      "8\n",
      "16\n",
      "32\n",
      "64\n",
      "128\n",
      "256\n",
      "512\n"
     ]
    },
    {
     "ename": "ZeroDivisionError",
     "evalue": "division by zero",
     "output_type": "error",
     "traceback": [
      "\u001b[0;31m---------------------------------------------------------------------------\u001b[0m",
      "\u001b[0;31mZeroDivisionError\u001b[0m                         Traceback (most recent call last)",
      "Cell \u001b[0;32mIn[24], line 13\u001b[0m\n\u001b[1;32m     10\u001b[0m     \u001b[38;5;28mprint\u001b[39m(\u001b[38;5;241m2\u001b[39m\u001b[38;5;241m*\u001b[39m\u001b[38;5;241m*\u001b[39mi)\n\u001b[1;32m     12\u001b[0m atexit\u001b[38;5;241m.\u001b[39munregister(exit_handler)\n\u001b[0;32m---> 13\u001b[0m \u001b[38;5;241;43m1\u001b[39;49m\u001b[43m \u001b[49m\u001b[38;5;241;43m/\u001b[39;49m\u001b[43m \u001b[49m\u001b[38;5;241;43m0\u001b[39;49m\n",
      "\u001b[0;31mZeroDivisionError\u001b[0m: division by zero"
     ]
    }
   ],
   "source": [
    "import atexit\n",
    "\n",
    "\n",
    "@atexit.register\n",
    "def exit_handler() -> None:\n",
    "    print(\"We're exiting now!\")\n",
    "\n",
    "\n",
    "for i in range(10):\n",
    "    print(2**i)\n",
    "\n",
    "atexit.unregister(exit_handler)\n",
    "1 / 0"
   ]
  },
  {
   "cell_type": "code",
   "execution_count": 11,
   "id": "9d28fa93-ce44-43c5-9f27-933c1e2111e2",
   "metadata": {},
   "outputs": [
    {
     "name": "stdout",
     "output_type": "stream",
     "text": [
      "Selected Jupyter core packages...\n",
      "IPython          : 8.22.2\n",
      "ipykernel        : 6.29.3\n",
      "ipywidgets       : not installed\n",
      "jupyter_client   : 8.6.1\n",
      "jupyter_core     : 5.7.2\n",
      "jupyter_server   : 2.13.0\n",
      "jupyterlab       : 4.1.5\n",
      "nbclient         : 0.10.0\n",
      "nbconvert        : 7.16.3\n",
      "nbformat         : 5.10.4\n",
      "notebook         : not installed\n",
      "qtconsole        : not installed\n",
      "traitlets        : 5.14.2\n",
      "4.1.5\n",
      "3 12\n"
     ]
    }
   ],
   "source": [
    "# Use the `jupyter --version` command.\n",
    "!jupyter --version\n",
    "\n",
    "# Use the `import jupyterlab` command.\n",
    "import jupyterlab\n",
    "print(jupyterlab.__version__)\n",
    "\n",
    "# Use the `sys.version_info` attribute.\n",
    "import sys\n",
    "print(sys.version_info.major, sys.version_info.minor)"
   ]
  }
 ],
 "metadata": {
  "kernelspec": {
   "display_name": "Python 3 (ipykernel)",
   "language": "python",
   "name": "python3"
  },
  "language_info": {
   "codemirror_mode": {
    "name": "ipython",
    "version": 3
   },
   "file_extension": ".py",
   "mimetype": "text/x-python",
   "name": "python",
   "nbconvert_exporter": "python",
   "pygments_lexer": "ipython3",
   "version": "3.12.2"
  }
 },
 "nbformat": 4,
 "nbformat_minor": 5
}
