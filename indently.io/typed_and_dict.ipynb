{
 "cells": [
  {
   "cell_type": "code",
   "execution_count": 12,
   "id": "2c2957c6-b5da-48a9-af8c-fc102d37d149",
   "metadata": {},
   "outputs": [],
   "source": [
    "from typing import TypedDict, NotRequired\n",
    "\n",
    "class Coordinate(TypedDict):\n",
    "    x: float\n",
    "    y: float\n",
    "    label: str\n",
    "    category: NotRequired[str]\n",
    "\n",
    "coordinate: Coordinate = {'x': 10, 'y': 14, 'label': 'Profit', 'category': 'Finance'}\n",
    "coordinate2: Coordinate = {'x': 20, 'y': 25, 'label': 'Expenses'}\n"
   ]
  },
  {
   "cell_type": "code",
   "execution_count": 13,
   "id": "e412cfc3",
   "metadata": {},
   "outputs": [],
   "source": [
    "Vote = TypedDict('Vote', {'for': int, 'against': int}, total = False)\n",
    "Vote2 = TypedDict('Vote2', {'for': int, 'against': NotRequired[int]}, total = True)\n",
    "\n",
    "vote: Vote = {'for': 100, 'against': 250}\n",
    "vote2: Vote2 = {'for': 100, 'against': 250}"
   ]
  },
  {
   "cell_type": "code",
   "execution_count": 46,
   "id": "6acff7fd-ebfd-4a95-9fb5-7aee58cdae76",
   "metadata": {},
   "outputs": [
    {
     "name": "stdout",
     "output_type": "stream",
     "text": [
      "dict_values(['Mario', 'Luigi', 'James', 'Lucky', 'Lusyfer', 'Ryan'])\n",
      "dict_keys([0, 1, 2, 3, 4, 5])\n",
      "{0: 'Mario', 1: 'Luigi', 3: 'Lucky', 4: 'Lusyfer', 5: 'Ryan'}\n",
      "James\n",
      "(5, 'Ryan')\n",
      "{0: 'Mario', 1: 'Luigi', 3: 'Lucky', 4: 'Lusyfer'}\n",
      "True\n",
      "{0: ['!!!', 'b'], 1: ['c', 'd']} {0: ['!!!', 'b'], 1: ['c', 'd']}\n",
      "Luigi\n",
      "No Value\n",
      "Mario\n",
      "???\n",
      "{0: 'Mario', 1: 'Luigi', 3: 'Lucky', 4: 'Lusyfer', 99: '???'}\n",
      "{'first_name': 'Nan', 'Last_name': 'Li'}\n",
      "{}\n",
      "{0: 'Mario', 1: 'Luigi', 3: 'Lucky', 4: 'Lusyfer', 99: '???'}\n",
      "{0: 'Mario', 1: 'Luigi', 3: 'Lucky', 4: 'Lusyfer', 99: '???'}\n",
      "dict_items([(0, 'Mario'), (1, 'Luigi'), (3, 'Lucky'), (4, 'Lusyfer'), (99, '???')])\n",
      "k=0, v='Mario'\n",
      "k=1, v='Luigi'\n",
      "k=3, v='Lucky'\n",
      "k=4, v='Lusyfer'\n",
      "k=99, v='???'\n"
     ]
    }
   ],
   "source": [
    "# 1 - values()\n",
    "users: dict = {0: 'Mario', 1: 'Luigi', 2: 'James', 3: 'Lucky', 4: 'Lusyfer', 5: 'Ryan'}\n",
    "print(users.values())\n",
    "\n",
    "# 2 - keys()\n",
    "\n",
    "print(users.keys())\n",
    "\n",
    "# 3 - pop() remove a specific key item\n",
    "poped = users.pop(2)\n",
    "print(users)\n",
    "print(poped)\n",
    "\n",
    "# 4 - popitem() remove the last item\n",
    "\n",
    "item = users.popitem()\n",
    "print(item)\n",
    "print(users)\n",
    "\n",
    "# 5 - copy() - shallow copy\n",
    "sample_dict: dict = {0: ['a', 'b'], 1: ['c', 'd']}\n",
    "copyed_dict: dict = sample_dict.copy()\n",
    "\n",
    "sample_dict[0][0] = '!!!'\n",
    "print(sample_dict == copyed_dict)\n",
    "print(sample_dict, copyed_dict)\n",
    "\n",
    "\n",
    "# 6 - get()\n",
    "print(users.get(1))\n",
    "print(users.get(5,'No Value'))\n",
    "\n",
    "#7 - setdefault()\n",
    "print(users.setdefault(0, '???'))\n",
    "\n",
    "print(users.setdefault(99, '???'))\n",
    "print(users)\n",
    "\n",
    "# 8 - clear()\n",
    "d: dict = {'first_name': 'Nan', 'Last_name': 'Li'}\n",
    "print(d)\n",
    "d.clear()\n",
    "print(d)\n",
    "\n",
    "# 9 - fromkeys()\n",
    "print('# 9 - fromkeys()')\n",
    "people: list[str] = ['Mario', 'Tony', 'Smith', 'Noclasica']\n",
    "p: dict = dict.fromkeys(people)\n",
    "print(users)\n",
    "\n",
    "p: dict = dict.fromkeys(people, 'Unknown')\n",
    "print(users)\n",
    "\n",
    "# 10 - items()\n",
    "print('# 10 - items()')\n",
    "print(users.items())\n",
    "\n",
    "for k, v in users.items():\n",
    "    print(f'{k=}, {v=}')\n",
    "\n",
    "# 11 - update()\n",
    "print('# 11 - update()')\n",
    "print(users)\n",
    "users.update({2: 'BoB'})\n"
   ]
  },
  {
   "cell_type": "code",
   "execution_count": null,
   "id": "1e8a1649",
   "metadata": {},
   "outputs": [],
   "source": [
    "\n",
    "\n",
    "\n"
   ]
  }
 ],
 "metadata": {
  "kernelspec": {
   "display_name": "Python 3 (ipykernel)",
   "language": "python",
   "name": "python3"
  },
  "language_info": {
   "codemirror_mode": {
    "name": "ipython",
    "version": 3
   },
   "file_extension": ".py",
   "mimetype": "text/x-python",
   "name": "python",
   "nbconvert_exporter": "python",
   "pygments_lexer": "ipython3",
   "version": "3.12.2"
  }
 },
 "nbformat": 4,
 "nbformat_minor": 5
}
