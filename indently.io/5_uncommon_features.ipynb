{
 "cells": [
  {
   "cell_type": "code",
   "execution_count": 4,
   "id": "e2cf8851-573e-4346-8b12-5bbe1d65672a",
   "metadata": {},
   "outputs": [
    {
     "name": "stdout",
     "output_type": "stream",
     "text": [
      "[10, 9, 8, 7, 6, 5, 4, 3, 2, 1]\n",
      "!dlrow ,olleH\n",
      "[1, 2, 3, 4, 5]\n",
      "!dlrow ,olleH\n"
     ]
    }
   ],
   "source": [
    "# Slice object\n",
    "numbers: list[int] = list(range(1,11))\n",
    "text: str = 'Hello, world!'\n",
    "print(numbers[::-1])\n",
    "print(text[::-1])\n",
    "\n",
    "rev: slice = slice(None, None, -1)\n",
    "f_five: slice = slice(None, 5)\n",
    "\n",
    "print(numbers[f_five])\n",
    "print(text[rev])"
   ]
  },
  {
   "cell_type": "code",
   "execution_count": 9,
   "id": "e63cad6c-3394-48bc-9da1-22ecfecda5e1",
   "metadata": {},
   "outputs": [
    {
     "name": "stdout",
     "output_type": "stream",
     "text": [
      "{1, 2, 3, 4, 5, 6, 7, 8}\n",
      "{4, 5}\n",
      "{1, 2, 3, 6, 7, 8}\n",
      "{1, 2, 3}\n",
      "{8, 6, 7}\n"
     ]
    }
   ],
   "source": [
    "# set operations\n",
    "set_a: set[int] = {1,2,3,4,5}\n",
    "set_b: set[int] = {4,5,6,7,8}\n",
    "\n",
    "# combine 2 sets\n",
    "print(set_a | set_b)\n",
    "\n",
    "# intersection of 2 sets\n",
    "print(set_a & set_b)\n",
    "\n",
    "# symmetric difference - get only the unique elements in 2 sets\n",
    "print(set_a ^ set_b)\n",
    "\n",
    "# \n",
    "print(set_a - set_b)\n",
    "print(set_b - set_a)\n",
    "\n",
    "\n"
   ]
  },
  {
   "cell_type": "code",
   "execution_count": 12,
   "id": "01cc2011-8e72-4294-b19a-18da5bd0d043",
   "metadata": {},
   "outputs": [
    {
     "name": "stdout",
     "output_type": "stream",
     "text": [
      "VERY HAIRY POTTER\n",
      "time: 5.00h\n",
      "PYTHON DAILY\n",
      "time: 0.33h\n"
     ]
    }
   ],
   "source": [
    "# format\n",
    "from typing import Any\n",
    "class Book:\n",
    "    def __init__(self, title:str, pages:int) -> None:\n",
    "        self.title = title\n",
    "        self.pages = pages\n",
    "\n",
    "    def __format__(self, format_spec: Any) -> set:\n",
    "        match format_spec:\n",
    "            case 'time':\n",
    "                # read book time\n",
    "                return f'{self.pages / 60:.2f}h'\n",
    "            case 'caps':\n",
    "                return self.title.upper()\n",
    "            case _:\n",
    "                raise ValueError(f'Unkown specifier for Book()')\n",
    "\n",
    "hairy_potter: Book = Book('Very Hairy Potter', 300)\n",
    "python_daily: Book = Book('python daily', 20)\n",
    "\n",
    "print(f'{hairy_potter:caps}')\n",
    "print(f'time: {hairy_potter:time}')\n",
    "\n",
    "print(f'{python_daily:caps}')\n",
    "print(f'time: {python_daily:time}')\n",
    "\n"
   ]
  },
  {
   "cell_type": "code",
   "execution_count": 23,
   "id": "2f979db4-23fb-4b0b-8766-9095bd58ed3c",
   "metadata": {},
   "outputs": [
    {
     "name": "stdout",
     "output_type": "stream",
     "text": [
      "Mario exists!\n",
      "Mario exists!\n"
     ]
    }
   ],
   "source": [
    "# walrus operator example 01\n",
    "users : dict[int, str] = {0: 'Bob', 1:'Mario'}\n",
    "\n",
    "\n",
    "# approach 01\n",
    "user: str | None = users.get(1) # 1\n",
    "if user:\n",
    "    print(f'{user} exists!')\n",
    "else:\n",
    "    print('No user found ...')\n",
    "\n",
    "# walrus operator\n",
    "if user:= users.get(1): # 3\n",
    "    print(f'{user} exists!')\n",
    "else:\n",
    "    print('No user found ...')"
   ]
  },
  {
   "cell_type": "code",
   "execution_count": 24,
   "id": "e77138ac-f237-4d99-8c53-5500ad042fa4",
   "metadata": {},
   "outputs": [
    {
     "name": "stdout",
     "output_type": "stream",
     "text": [
      "{'words': ['Bob'], 'word_count': 1, 'character_count': 3}\n",
      "{'words': ['Hello,', 'Bob'], 'word_count': 2, 'character_count': 9}\n",
      "{'words': ['My', 'name', 'is', 'Bob'], 'word_count': 4, 'character_count': 11}\n"
     ]
    }
   ],
   "source": [
    "# walrus operator example 02\n",
    "def get_info(text: str) -> dict:\n",
    "    return {'words': (words:= text.split()), 'word_count': len(words), 'character_count': len(''.join(words))}\n",
    "\n",
    "print(get_info('Bob'))\n",
    "print(get_info('Hello, Bob'))\n",
    "print(get_info('My name is Bob'))"
   ]
  },
  {
   "cell_type": "code",
   "execution_count": 28,
   "id": "fabf9fb3-e9e2-4a9e-a21c-f8c380b100ef",
   "metadata": {},
   "outputs": [
    {
     "name": "stdout",
     "output_type": "stream",
     "text": [
      "8\n",
      "6\n",
      "200\n",
      "12\n",
      "9\n",
      "300\n"
     ]
    },
    {
     "ename": "TypeError",
     "evalue": "multiply_setup.<locals>.multiply() takes 1 positional argument but 2 were given",
     "output_type": "error",
     "traceback": [
      "\u001b[0;31m---------------------------------------------------------------------------\u001b[0m",
      "\u001b[0;31mTypeError\u001b[0m                                 Traceback (most recent call last)",
      "Cell \u001b[0;32mIn[28], line 23\u001b[0m\n\u001b[1;32m     19\u001b[0m \u001b[38;5;28mprint\u001b[39m(triple(\u001b[38;5;241m100\u001b[39m))\n\u001b[1;32m     22\u001b[0m \u001b[38;5;66;03m# partion\u001b[39;00m\n\u001b[0;32m---> 23\u001b[0m \u001b[38;5;28mprint\u001b[39m(\u001b[43mdouble\u001b[49m\u001b[43m(\u001b[49m\u001b[38;5;241;43m2\u001b[39;49m\u001b[43m,\u001b[49m\u001b[43m \u001b[49m\u001b[38;5;241;43m4\u001b[39;49m\u001b[43m)\u001b[49m)\n\u001b[1;32m     24\u001b[0m \u001b[38;5;28mprint\u001b[39m(double(\u001b[38;5;241m2\u001b[39m, \u001b[38;5;241m3\u001b[39m))\n\u001b[1;32m     25\u001b[0m \u001b[38;5;28mprint\u001b[39m(double(\u001b[38;5;241m2\u001b[39m, \u001b[38;5;241m100\u001b[39m))\n",
      "\u001b[0;31mTypeError\u001b[0m: multiply_setup.<locals>.multiply() takes 1 positional argument but 2 were given"
     ]
    }
   ],
   "source": [
    "# currying\n",
    "from typing import Callable\n",
    "\n",
    "# \n",
    "def multiply_setup(a: float) -> Callable:\n",
    "    def multiply(b: float) -> float:\n",
    "        return a * b\n",
    "    return multiply\n",
    "\n",
    "double: Callable = multiply_setup(2)\n",
    "triple: Callable = multiply_setup(3)\n",
    "\n",
    "print(double(4))\n",
    "print(double(3))\n",
    "print(double(100))\n",
    "\n",
    "print(triple(4))\n",
    "print(triple(3))\n",
    "print(triple(100))\n",
    "\n",
    "\n",
    "# partion\n",
    "print(double(2, 4))\n",
    "print(double(2, 3))\n",
    "print(double(2, 100))"
   ]
  },
  {
   "cell_type": "code",
   "execution_count": null,
   "id": "06363dda-59dc-4e76-ace5-858042fbfd26",
   "metadata": {},
   "outputs": [],
   "source": []
  }
 ],
 "metadata": {
  "kernelspec": {
   "display_name": "Python 3 (ipykernel)",
   "language": "python",
   "name": "python3"
  },
  "language_info": {
   "codemirror_mode": {
    "name": "ipython",
    "version": 3
   },
   "file_extension": ".py",
   "mimetype": "text/x-python",
   "name": "python",
   "nbconvert_exporter": "python",
   "pygments_lexer": "ipython3",
   "version": "3.12.2"
  }
 },
 "nbformat": 4,
 "nbformat_minor": 5
}
