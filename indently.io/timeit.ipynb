{
 "cells": [
  {
   "cell_type": "code",
   "execution_count": 19,
   "id": "f84bae70-1e68-44db-b2ed-7355f8ee8236",
   "metadata": {},
   "outputs": [
    {
     "name": "stdout",
     "output_type": "stream",
     "text": [
      "randint(): 0.1891s\n",
      "random(): 0.0169s\n"
     ]
    }
   ],
   "source": [
    "# timeit\n",
    "import timeit\n",
    "import time\n",
    "import random\n",
    "\n",
    "\n",
    "randint_time: float = timeit.timeit(stmt='random.randint(0, 1)',setup='import random', timer=time.perf_counter, number=1_000_000)\n",
    "\n",
    "random_time: float = timeit.timeit(stmt='random.random()',setup='import random', timer=time.perf_counter, number=1_000_000)\n",
    "# random.randint\n",
    "# random.random\n",
    "print(f'randint(): {round(randint_time, 4)}s')\n",
    "\n",
    "print(f'random(): {round(random_time, 4)}s')\n"
   ]
  },
  {
   "cell_type": "code",
   "execution_count": 28,
   "id": "8b5b49d9-b59f-4bfe-bf04-dd38a2202643",
   "metadata": {},
   "outputs": [
    {
     "name": "stdout",
     "output_type": "stream",
     "text": [
      "generate_list_random(): 0.6244s\n",
      "generate_comp_random(): 0.5125s\n"
     ]
    }
   ],
   "source": [
    "\n",
    "def generate_list_random(amount: int) -> list[float]:\n",
    "    random_numbers: list[int] = []\n",
    "    for i in range(amount):\n",
    "        random_numbers.append(random.random())\n",
    "    return random_numbers\n",
    "\n",
    "def generate_comp_random(amount: int) -> list[float]:\n",
    "    random_numbers: list[int] = []\n",
    "\n",
    "    return [random.random() for i in range(amount)]\n",
    "\n",
    "\n",
    "amount_num: int = 20\n",
    "\n",
    "list_time: float = timeit.timeit(stmt='generate_list_random(amount=amount_num)',globals=globals())\n",
    "\n",
    "comp_time: float = timeit.timeit(stmt='generate_comp_random(amount=amount_num)',globals=globals())\n",
    "\n",
    "print(f'generate_list_random(): {round(list_time, 4)}s')\n",
    "\n",
    "print(f'generate_comp_random(): {round(comp_time, 4)}s')\n",
    "\n",
    "\n",
    "# generate_comp_random(5)"
   ]
  },
  {
   "cell_type": "code",
   "execution_count": 31,
   "id": "51d838df-ba8e-4ed7-8d6b-406c6bf5193e",
   "metadata": {},
   "outputs": [
    {
     "name": "stdout",
     "output_type": "stream",
     "text": [
      "randint(): 0.1793s\n",
      "random(): 0.0167s\n"
     ]
    }
   ],
   "source": [
    "ri_times: list[float] = timeit.repeat(stmt='random.randint(0, 1)', setup='import random', repeat=5)\n",
    "r_times: list[float] = timeit.repeat(stmt='random.random()', setup='import random', repeat=5)\n",
    "\n",
    "print(f'randint(): {round(min(ri_times), 4)}s')\n",
    "print(f'random(): {round(min(r_times), 4)}s')"
   ]
  },
  {
   "cell_type": "code",
   "execution_count": 34,
   "id": "6e82afb6-290c-481e-ae2c-6db0b979cd3d",
   "metadata": {},
   "outputs": [
    {
     "name": "stdout",
     "output_type": "stream",
     "text": [
      "random(): 0.259s\n"
     ]
    }
   ],
   "source": [
    "def calculate():\n",
    "    for i in range(10):\n",
    "        random.random()\n",
    "\n",
    "calc_time: float = timeit.timeit(stmt =calculate)\n",
    "\n",
    "print(f'random(): {round(calc_time, 4)}s')  "
   ]
  },
  {
   "cell_type": "code",
   "execution_count": null,
   "id": "374794f1-62fb-4505-87de-6947498e70b7",
   "metadata": {},
   "outputs": [],
   "source": []
  }
 ],
 "metadata": {
  "kernelspec": {
   "display_name": "Python 3 (ipykernel)",
   "language": "python",
   "name": "python3"
  },
  "language_info": {
   "codemirror_mode": {
    "name": "ipython",
    "version": 3
   },
   "file_extension": ".py",
   "mimetype": "text/x-python",
   "name": "python",
   "nbconvert_exporter": "python",
   "pygments_lexer": "ipython3",
   "version": "3.12.2"
  }
 },
 "nbformat": 4,
 "nbformat_minor": 5
}
