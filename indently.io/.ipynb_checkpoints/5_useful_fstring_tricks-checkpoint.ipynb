{
 "cells": [
  {
   "cell_type": "code",
   "execution_count": 46,
   "id": "ac7fae39-30e1-44ab-b962-fb85cdac1dd9",
   "metadata": {
    "editable": true,
    "slideshow": {
     "slide_type": ""
    },
    "tags": []
   },
   "outputs": [
    {
     "name": "stdout",
     "output_type": "stream",
     "text": [
      "1_000_000_000_000\n",
      "1,000,000,000,000\n",
      "1.000000e+12\n",
      "1.00e+12\n",
      "1.620000e+09\n",
      "1.62e+09\n"
     ]
    }
   ],
   "source": [
    "# integer separator  \n",
    "n: int = 1000000000000\n",
    "print(f'{n:_}')\n",
    "print(f'{n:,}')\n",
    "print(f'{n:e}') \n",
    "# how many decimal place use with scientific notation\n",
    "print(f'{n:.2e}')\n",
    "\n",
    "f: float = 1.62e9\n",
    "print(f'{f:e}') \n",
    "# how many decimal place use with scientific notation\n",
    "print(f'{f:.2e}')"
   ]
  },
  {
   "cell_type": "code",
   "execution_count": 16,
   "id": "4009629c-4e96-4e9f-bce8-41d32a85836f",
   "metadata": {},
   "outputs": [
    {
     "name": "stdout",
     "output_type": "stream",
     "text": [
      "                 var:\n",
      "var                 :\n",
      "        var         :\n",
      "_________________var:\n",
      "var#################:\n",
      "||||||||var|||||||||:\n"
     ]
    }
   ],
   "source": [
    "var: str = 'var'\n",
    "print(f'{var:>20}:') # right align \n",
    "print(f'{var:<20}:') # left align \n",
    "print(f'{var:^20}:') # center align\n",
    "\n",
    "# fill with symbpl (a character)\n",
    "print(f'{var:_>20}:') # right align \n",
    "print(f'{var:#<20}:') # left align \n",
    "print(f'{var:|^20}:') # center align"
   ]
  },
  {
   "cell_type": "code",
   "execution_count": 68,
   "id": "4eb2d0eb-a749-4ccb-8013-099c1cc1a011",
   "metadata": {},
   "outputs": [
    {
     "name": "stdout",
     "output_type": "stream",
     "text": [
      "10.04.24 (00:31:52)\n",
      "Wed Apr 10 00:31:52 2024\n",
      "12AM\n",
      "10.04.24 (00:31:52)\n",
      "100,000.12\n",
      "[2024-04-10] Bob says: 💓🍌\n",
      "[datetime.date(2024, 4, 10)] 'Bob' says: '\\U0001f493\\U0001f34c'\n",
      "[datetime.date(2024, 4, 10)] 'Bob' says: '💓🍌'\n"
     ]
    }
   ],
   "source": [
    "# format datetime syntax\n",
    "from datetime import datetime, date\n",
    "now: datetime = datetime.now()\n",
    "\n",
    "print(f'{now:%d.%m.%y (%H:%M:%S)}')\n",
    "print(f'{now:%c}') # local version of datetime\n",
    "print(f'{now:%I%p}') # 12 hour format and am and pm\n",
    "\n",
    "# date time specifier\n",
    "date_spec: str = '%d.%m.%y (%H:%M:%S)'\n",
    "print(f'{now:{date_spec}}')\n",
    "\n",
    "# date time specifier\n",
    "number: float = 100000.12345567\n",
    "spec: str = ',.2f'\n",
    "print(f'{number:{spec}}')\n",
    "\n",
    "\n",
    "# \n",
    "banana: str = '💓🍌'\n",
    "name: str = 'Bob'\n",
    "today: date = datetime.now().date()\n",
    "\n",
    "print(f'[{today!s}] {name!s} says: {banana!s}')\n",
    "print(f'[{today!a}] {name!a} says: {banana!a}')\n",
    "print(f'[{today!r}] {name!r} says: {banana!r}')\n",
    "\n"
   ]
  },
  {
   "cell_type": "code",
   "execution_count": 25,
   "id": "26b23278-9ebd-45c2-966f-86dbaee2f62c",
   "metadata": {},
   "outputs": [
    {
     "name": "stdout",
     "output_type": "stream",
     "text": [
      "1234.57\n",
      "1235\n",
      "1,234.568\n",
      "1_234.568\n"
     ]
    }
   ],
   "source": [
    "# \n",
    "n: float = 1234.5678\n",
    "print(f'{n:.2f}') # 2 decimals\n",
    "print(f'{n:.0f}') # completely remove the decimal\n",
    "print(f'{n:,.3f}') # \n",
    "print(f'{n:_.3f}') # "
   ]
  },
  {
   "cell_type": "code",
   "execution_count": 60,
   "id": "1ca55a31-d800-480a-9611-5221c977a7a9",
   "metadata": {},
   "outputs": [
    {
     "name": "stdout",
     "output_type": "stream",
     "text": [
      "a + b = 15\n",
      "a + b = 15\n",
      "bool(a) = True\n",
      "my_var = 'Bob says hi'\n",
      "my_var = Bob says hi\n",
      "fa + fb = 0.30\n"
     ]
    }
   ],
   "source": [
    "a: int = 5\n",
    "b: int = 10\n",
    "my_var: str = 'Bob says hi'\n",
    "print(f'a + b = {a  + b}')\n",
    "print(f'{a + b = }')\n",
    "print(f'{bool(a) = }')\n",
    "print(f'{my_var = }')\n",
    "print(f'{my_var = !s}')\n",
    "\n",
    "fa: float = 0.1\n",
    "fb: float = 0.2\n",
    "print(f'{fa + fb = :.2f}')"
   ]
  },
  {
   "cell_type": "code",
   "execution_count": 36,
   "id": "fe1b562e-e0af-41d7-a465-20ae02c7a18f",
   "metadata": {
    "editable": true,
    "slideshow": {
     "slide_type": ""
    },
    "tags": []
   },
   "outputs": [
    {
     "name": "stdout",
     "output_type": "stream",
     "text": [
      "a = [1, 23, 4, 5, 6, 7, 10]\n",
      "s = {3, 4, 5, 6, 7, 4345, 12, 345}\n",
      "d = {'name': 'jason', 'age': 38}\n"
     ]
    }
   ],
   "source": [
    "# test\n",
    "l: list = [1,23,4,5,6,7,10]\n",
    "print(f'{a = }')\n",
    "\n",
    "s: set = {12,3,4,5,6,4345,7,345}\n",
    "print(f'{s = }')\n",
    "\n",
    "d: dict = {'name': 'jason', 'age': 38}\n",
    "print(f'{d = }')"
   ]
  },
  {
   "cell_type": "code",
   "execution_count": 56,
   "id": "79865c60-59e9-4578-a3a6-fa6bab3a0e19",
   "metadata": {},
   "outputs": [
    {
     "name": "stdout",
     "output_type": "stream",
     "text": [
      "path = '/home/nli31/github/python-learning/Indently'\n"
     ]
    }
   ],
   "source": [
    "\n",
    "# r - raw str\n",
    "custom_folder = 'Indently'\n",
    "path: str = rf'/home/nli31/github/python-learning/{custom_folder}'\n",
    "print(f'{path = }')"
   ]
  },
  {
   "cell_type": "code",
   "execution_count": null,
   "id": "867effee-567d-43dc-8fe8-ce2482827d85",
   "metadata": {},
   "outputs": [],
   "source": []
  }
 ],
 "metadata": {
  "kernelspec": {
   "display_name": "Python 3 (ipykernel)",
   "language": "python",
   "name": "python3"
  },
  "language_info": {
   "codemirror_mode": {
    "name": "ipython",
    "version": 3
   },
   "file_extension": ".py",
   "mimetype": "text/x-python",
   "name": "python",
   "nbconvert_exporter": "python",
   "pygments_lexer": "ipython3",
   "version": "3.12.2"
  }
 },
 "nbformat": 4,
 "nbformat_minor": 5
}
