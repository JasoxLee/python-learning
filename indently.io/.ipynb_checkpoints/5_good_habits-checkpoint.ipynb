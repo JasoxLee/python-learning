{
 "cells": [
  {
   "cell_type": "code",
   "execution_count": 9,
   "id": "9d1f432b-0a64-423f-9785-f5af40061da6",
   "metadata": {},
   "outputs": [
    {
     "name": "stdout",
     "output_type": "stream",
     "text": [
      "Connecting to internet ... \n",
      "You are connected!\n"
     ]
    }
   ],
   "source": [
    "from utils import connect\n",
    "\n",
    "connect()\n",
    "\n",
    "# import time\n",
    "\n",
    "# def connect() -> None:\n",
    "#     print('Connecting to internet ... ')\n",
    "#     time.sleep(3)\n",
    "#     print('You are connected!')\n",
    "\n",
    "if __name__ == '__main__':\n",
    "    connect()\n",
    "# connect()"
   ]
  },
  {
   "cell_type": "code",
   "execution_count": null,
   "id": "e8cc1912-0d11-46da-9ad7-619649cbafbc",
   "metadata": {},
   "outputs": [],
   "source": []
  },
  {
   "cell_type": "code",
   "execution_count": null,
   "id": "e83942b5-8875-4a6a-ab0f-3fe8f77b3464",
   "metadata": {},
   "outputs": [],
   "source": []
  }
 ],
 "metadata": {
  "kernelspec": {
   "display_name": "Python 3 (ipykernel)",
   "language": "python",
   "name": "python3"
  },
  "language_info": {
   "codemirror_mode": {
    "name": "ipython",
    "version": 3
   },
   "file_extension": ".py",
   "mimetype": "text/x-python",
   "name": "python",
   "nbconvert_exporter": "python",
   "pygments_lexer": "ipython3",
   "version": "3.12.2"
  }
 },
 "nbformat": 4,
 "nbformat_minor": 5
}
