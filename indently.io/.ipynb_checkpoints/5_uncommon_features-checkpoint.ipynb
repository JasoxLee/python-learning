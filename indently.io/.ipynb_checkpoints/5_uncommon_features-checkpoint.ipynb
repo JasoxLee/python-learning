{
 "cells": [
  {
   "cell_type": "code",
   "execution_count": 4,
   "id": "e2cf8851-573e-4346-8b12-5bbe1d65672a",
   "metadata": {},
   "outputs": [
    {
     "name": "stdout",
     "output_type": "stream",
     "text": [
      "[10, 9, 8, 7, 6, 5, 4, 3, 2, 1]\n",
      "!dlrow ,olleH\n",
      "[1, 2, 3, 4, 5]\n",
      "!dlrow ,olleH\n"
     ]
    }
   ],
   "source": [
    "# Slice object\n",
    "numbers: list[int] = list(range(1,11))\n",
    "text: str = 'Hello, world!'\n",
    "print(numbers[::-1])\n",
    "print(text[::-1])\n",
    "\n",
    "rev: slice = slice(None, None, -1)\n",
    "f_five: slice = slice(None, 5)\n",
    "\n",
    "print(numbers[f_five])\n",
    "print(text[rev])"
   ]
  },
  {
   "cell_type": "code",
   "execution_count": 8,
   "id": "e63cad6c-3394-48bc-9da1-22ecfecda5e1",
   "metadata": {},
   "outputs": [
    {
     "name": "stdout",
     "output_type": "stream",
     "text": [
      "{1, 2, 3, 4, 5, 6, 7, 8}\n",
      "{4, 5}\n",
      "{1, 2, 3, 6, 7, 8}\n",
      "{1, 2, 3}\n",
      "{8, 6, 7}\n"
     ]
    }
   ],
   "source": [
    "# set operations\n",
    "set_a: set[int] = {1,2,3,4,5}\n",
    "set_b: set[int] = {4,5,6,7,8}\n",
    "\n",
    "# combine 2 sets\n",
    "print(set_a | set_b)\n",
    "\n",
    "# intersection of 2 sets\n",
    "print(set_a & set_b)\n",
    "\n",
    "# symmetric difference - get only the unique elements in 2 sets\n",
    "print(set_a ^ set_b)\n",
    "\n",
    "# \n",
    "print(set_a - set_b)\n",
    "print(set_b - set_a)\n",
    "\n",
    "\n"
   ]
  },
  {
   "cell_type": "code",
   "execution_count": null,
   "id": "01cc2011-8e72-4294-b19a-18da5bd0d043",
   "metadata": {},
   "outputs": [],
   "source": []
  }
 ],
 "metadata": {
  "kernelspec": {
   "display_name": "Python 3 (ipykernel)",
   "language": "python",
   "name": "python3"
  },
  "language_info": {
   "codemirror_mode": {
    "name": "ipython",
    "version": 3
   },
   "file_extension": ".py",
   "mimetype": "text/x-python",
   "name": "python",
   "nbconvert_exporter": "python",
   "pygments_lexer": "ipython3",
   "version": "3.12.2"
  }
 },
 "nbformat": 4,
 "nbformat_minor": 5
}
