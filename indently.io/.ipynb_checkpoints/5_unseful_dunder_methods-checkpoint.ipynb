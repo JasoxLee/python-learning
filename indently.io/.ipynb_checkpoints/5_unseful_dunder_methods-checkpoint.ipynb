{
 "cells": [
  {
   "cell_type": "code",
   "execution_count": 3,
   "id": "a46a3cf7-2392-4f05-b916-c1628e8f8985",
   "metadata": {
    "editable": true,
    "slideshow": {
     "slide_type": ""
    },
    "tags": []
   },
   "outputs": [
    {
     "name": "stdout",
     "output_type": "stream",
     "text": [
      "False\n",
      "False\n"
     ]
    }
   ],
   "source": [
    "# ellipse ellipsis eclipse\n",
    "from utils import Fruit \n",
    "# __eq__\n",
    "f1: Fruit = Fruit(name='Apple', grams=100)\n",
    "f2: Fruit = Fruit(name='Banana', grams=150)\n",
    "f3: Fruit = Fruit(name='Apple', grams=100)\n",
    "\n",
    "print(f1 == f2)\n",
    "print(f1 == f3)\n"
   ]
  },
  {
   "cell_type": "code",
   "execution_count": null,
   "id": "f402e33b-8243-4f97-947b-9da1a07755d5",
   "metadata": {},
   "outputs": [],
   "source": []
  }
 ],
 "metadata": {
  "kernelspec": {
   "display_name": "Python 3 (ipykernel)",
   "language": "python",
   "name": "python3"
  },
  "language_info": {
   "codemirror_mode": {
    "name": "ipython",
    "version": 3
   },
   "file_extension": ".py",
   "mimetype": "text/x-python",
   "name": "python",
   "nbconvert_exporter": "python",
   "pygments_lexer": "ipython3",
   "version": "3.12.2"
  }
 },
 "nbformat": 4,
 "nbformat_minor": 5
}
