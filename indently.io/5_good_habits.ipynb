{
 "cells": [
  {
   "cell_type": "code",
   "execution_count": 14,
   "id": "9d1f432b-0a64-423f-9785-f5af40061da6",
   "metadata": {},
   "outputs": [
    {
     "name": "stdout",
     "output_type": "stream",
     "text": [
      "Hello, world!\n",
      "Bye, world!\n"
     ]
    }
   ],
   "source": [
    "# 1. using __name__ = '__main__';\n",
    "# 2. using main() with __main__\n",
    "\n",
    "\n",
    "from utils import connect\n",
    "\n",
    "def greet()-> None:\n",
    "    print('Hello, world!')\n",
    "\n",
    "def bye()-> None:\n",
    "    print('Bye, world!')\n",
    "\n",
    "def main() -> None:\n",
    "    greet()\n",
    "    bye()\n",
    "    \n",
    "if __name__ == '__main__':\n",
    "    main()\n",
    "# connect()"
   ]
  },
  {
   "cell_type": "code",
   "execution_count": null,
   "id": "e8cc1912-0d11-46da-9ad7-619649cbafbc",
   "metadata": {},
   "outputs": [],
   "source": [
    "# 3. break the big function down to small functions"
   ]
  },
  {
   "cell_type": "code",
   "execution_count": 19,
   "id": "e83942b5-8875-4a6a-ab0f-3fe8f77b3464",
   "metadata": {},
   "outputs": [],
   "source": [
    "# 4. using type annotations\n",
    "number: int = 10\n",
    "sample: list[int] = ['a', 1, 'b', 2]\n",
    "def upper_everything(elt):\n",
    "    \"\"\"\n",
    "    \"\"\"\n",
    "    return []"
   ]
  },
  {
   "cell_type": "code",
   "execution_count": 29,
   "id": "1bed842f-a1cf-4f55-92f1-b9c91f4b9567",
   "metadata": {},
   "outputs": [
    {
     "name": "stdout",
     "output_type": "stream",
     "text": [
      "['Charlotte', 'Pradeepan']\n"
     ]
    }
   ],
   "source": [
    "people: list[str] = ['Nan', 'Tony', 'Ryan', 'Charlotte', 'Pradeepan']\n",
    "\n",
    "long_names: list[str] = []\n",
    "\n",
    "# for p in people:\n",
    "#     if len(p) > 7:\n",
    "#         long_names.append(p)\n",
    "\n",
    "\n",
    "long_names: list[str] = [p for p in people if len(p) > 7]\n",
    "\n",
    "print(long_names)"
   ]
  },
  {
   "cell_type": "code",
   "execution_count": null,
   "id": "de17e375-fc6f-4731-a301-4605a0212a4d",
   "metadata": {},
   "outputs": [],
   "source": []
  }
 ],
 "metadata": {
  "kernelspec": {
   "display_name": "Python 3 (ipykernel)",
   "language": "python",
   "name": "python3"
  },
  "language_info": {
   "codemirror_mode": {
    "name": "ipython",
    "version": 3
   },
   "file_extension": ".py",
   "mimetype": "text/x-python",
   "name": "python",
   "nbconvert_exporter": "python",
   "pygments_lexer": "ipython3",
   "version": "3.12.2"
  }
 },
 "nbformat": 4,
 "nbformat_minor": 5
}
