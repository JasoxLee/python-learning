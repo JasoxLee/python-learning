{
 "cells": [
  {
   "cell_type": "code",
   "execution_count": 4,
   "id": "6222a423-7c69-4a71-8ffe-abec291345ca",
   "metadata": {},
   "outputs": [
    {
     "name": "stdout",
     "output_type": "stream",
     "text": [
      "(1, 5)\n",
      "(1, 5, 3)\n"
     ]
    }
   ],
   "source": [
    "from operator import itemgetter\n",
    "# itemgetter for list\n",
    "elements: list[int] = [1, 2, 3, 4, 5]\n",
    "\n",
    "selected: tuple[int, int] = (elements[0], elements[-1])\n",
    "print(selected)\n",
    "\n",
    "first_and_last: itemgetter = itemgetter(0, -1, 2)\n",
    "print(first_and_last(elements))\n"
   ]
  },
  {
   "cell_type": "code",
   "execution_count": 5,
   "id": "02b0f91b-e8dc-4722-bbce-af7ec3ea74c1",
   "metadata": {},
   "outputs": [],
   "source": [
    "# itermgetter for dict\n",
    "\n",
    "items: dict[str, int] = {'a': 1, 'b': 2, 'c': 3, 'd': 4}"
   ]
  },
  {
   "cell_type": "code",
   "execution_count": null,
   "id": "4b46e523",
   "metadata": {},
   "outputs": [],
   "source": []
  }
 ],
 "metadata": {
  "kernelspec": {
   "display_name": "Python 3 (ipykernel)",
   "language": "python",
   "name": "python3"
  },
  "language_info": {
   "codemirror_mode": {
    "name": "ipython",
    "version": 3
   },
   "file_extension": ".py",
   "mimetype": "text/x-python",
   "name": "python",
   "nbconvert_exporter": "python",
   "pygments_lexer": "ipython3",
   "version": "3.12.2"
  }
 },
 "nbformat": 4,
 "nbformat_minor": 5
}
