{
 "cells": [
  {
   "cell_type": "code",
   "execution_count": 14,
   "id": "a46a3cf7-2392-4f05-b916-c1628e8f8985",
   "metadata": {
    "editable": true,
    "slideshow": {
     "slide_type": ""
    },
    "tags": []
   },
   "outputs": [
    {
     "name": "stdout",
     "output_type": "stream",
     "text": [
      "False\n",
      "False\n"
     ]
    },
    {
     "ename": "TypeError",
     "evalue": "unsupported operand type(s) for |: 'Fruit' and 'Fruit'",
     "output_type": "error",
     "traceback": [
      "\u001b[0;31m---------------------------------------------------------------------------\u001b[0m",
      "\u001b[0;31mTypeError\u001b[0m                                 Traceback (most recent call last)",
      "Cell \u001b[0;32mIn[14], line 16\u001b[0m\n\u001b[1;32m      9\u001b[0m \u001b[38;5;28mprint\u001b[39m(f1 \u001b[38;5;241m==\u001b[39m f3)\n\u001b[1;32m     11\u001b[0m \u001b[38;5;66;03m# print(f'{f1:kg}')\u001b[39;00m\n\u001b[1;32m     12\u001b[0m \u001b[38;5;66;03m# print(f'{f1:lb}')\u001b[39;00m\n\u001b[1;32m     13\u001b[0m \u001b[38;5;66;03m# print(f'{f1:desc}')\u001b[39;00m\n\u001b[1;32m     14\u001b[0m \u001b[38;5;66;03m# print(f'{f1:err}')\u001b[39;00m\n\u001b[0;32m---> 16\u001b[0m combined: Fruit \u001b[38;5;241m=\u001b[39m \u001b[43mf1\u001b[49m\u001b[43m \u001b[49m\u001b[38;5;241;43m|\u001b[39;49m\u001b[43m \u001b[49m\u001b[43mf2\u001b[49m\n",
      "\u001b[0;31mTypeError\u001b[0m: unsupported operand type(s) for |: 'Fruit' and 'Fruit'"
     ]
    }
   ],
   "source": [
    "# ellipse ellipsis eclipse\n",
    "from utils import Fruit \n",
    "# __eq__\n",
    "f1: Fruit = Fruit(name='Apple', grams=100)\n",
    "f2: Fruit = Fruit(name='Banana', grams=150)\n",
    "f3: Fruit = Fruit(name='Apple', grams=100)\n",
    "\n",
    "print(f1 == f2)\n",
    "print(f1 == f3)\n",
    "\n",
    "# print(f'{f1:kg}')\n",
    "# print(f'{f1:lb}')\n",
    "# print(f'{f1:desc}')\n",
    "# print(f'{f1:err}')\n",
    "\n",
    "combined: Fruit = f1 | f2"
   ]
  },
  {
   "cell_type": "code",
   "execution_count": null,
   "id": "f402e33b-8243-4f97-947b-9da1a07755d5",
   "metadata": {},
   "outputs": [],
   "source": []
  }
 ],
 "metadata": {
  "kernelspec": {
   "display_name": "Python 3 (ipykernel)",
   "language": "python",
   "name": "python3"
  },
  "language_info": {
   "codemirror_mode": {
    "name": "ipython",
    "version": 3
   },
   "file_extension": ".py",
   "mimetype": "text/x-python",
   "name": "python",
   "nbconvert_exporter": "python",
   "pygments_lexer": "ipython3",
   "version": "3.12.2"
  }
 },
 "nbformat": 4,
 "nbformat_minor": 5
}
