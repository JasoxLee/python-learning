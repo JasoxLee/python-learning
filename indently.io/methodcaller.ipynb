{
 "cells": [
  {
   "cell_type": "code",
   "execution_count": 10,
   "id": "6222a423-7c69-4a71-8ffe-abec291345ca",
   "metadata": {},
   "outputs": [
    {
     "name": "stdout",
     "output_type": "stream",
     "text": [
      "['Bob', 'Billy']\n",
      "Sorted: ['Bob', 'Tony', 'Billy', 'James', 'Nan']\n"
     ]
    }
   ],
   "source": [
    "from operator import methodcaller\n",
    "from timeit import repeat\n",
    "# itemgetter for list\n",
    "names: list[str] = ['Bob', 'Tony', 'James', 'Nan', 'Billy']\n",
    "\n",
    "starts_with_b: methodcaller = methodcaller('startswith', 'B')\n",
    "\n",
    "filtered: filter = filter(starts_with_b, names)\n",
    "print(list(filtered))\n",
    "\n",
    "count_a: methodcaller = methodcaller('count', 'a')\n",
    "\n",
    "print('Sorted:', list(sorted(names, key=count_a)))\n"
   ]
  },
  {
   "cell_type": "code",
   "execution_count": 13,
   "id": "5232a471",
   "metadata": {},
   "outputs": [
    {
     "name": "stdout",
     "output_type": "stream",
     "text": [
      "method_caller_time=0.03570\n",
      "lambda_time=0.05947\n"
     ]
    }
   ],
   "source": [
    "names: list[str] = ['Bob', 'Tony', 'James', 'Nan', 'Billy']\n",
    "\n",
    "start_with_b: methodcaller = methodcaller('startswith', 'B')\n",
    "\n",
    "warm_up: str = '''\n",
    "for i in range(3):\n",
    "    ...\n",
    "'''\n",
    "\n",
    "method_caller_test: str ='''\n",
    "filter(starts_with_b, names)\n",
    "'''\n",
    "\n",
    "lambda_test: str ='''\n",
    "filter(lambda x: x.startswith('B'), names)\n",
    "'''\n",
    "\n",
    "\n",
    "warm_up: float = min(repeat(stmt=warm_up))\n",
    "method_caller_time: float = min(repeat(stmt=method_caller_test, globals=globals()))\n",
    "lambda_time: float = min(repeat(stmt=lambda_test, globals=globals()))\n",
    "\n",
    "\n",
    "print(f'{method_caller_time=:.5f}')\n",
    "print(f'{lambda_time=:.5f}')\n"
   ]
  }
 ],
 "metadata": {
  "kernelspec": {
   "display_name": "Python 3 (ipykernel)",
   "language": "python",
   "name": "python3"
  },
  "language_info": {
   "codemirror_mode": {
    "name": "ipython",
    "version": 3
   },
   "file_extension": ".py",
   "mimetype": "text/x-python",
   "name": "python",
   "nbconvert_exporter": "python",
   "pygments_lexer": "ipython3",
   "version": "3.12.2"
  }
 },
 "nbformat": 4,
 "nbformat_minor": 5
}
