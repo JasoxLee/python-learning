{
 "cells": [
  {
   "cell_type": "code",
   "execution_count": 5,
   "id": "368ce18b-b79a-4eec-aaed-7a6e26689aa3",
   "metadata": {},
   "outputs": [
    {
     "ename": "NotImplementedError",
     "evalue": "connect() is not implemented!",
     "output_type": "error",
     "traceback": [
      "\u001b[0;31m---------------------------------------------------------------------------\u001b[0m",
      "\u001b[0;31mNotImplementedError\u001b[0m                       Traceback (most recent call last)",
      "Cell \u001b[0;32mIn[5], line 13\u001b[0m\n\u001b[1;32m     11\u001b[0m connect()\n\u001b[1;32m     12\u001b[0m connect01()\n\u001b[0;32m---> 13\u001b[0m \u001b[43mconnect02\u001b[49m\u001b[43m(\u001b[49m\u001b[43m)\u001b[49m\n",
      "Cell \u001b[0;32mIn[5], line 7\u001b[0m, in \u001b[0;36mconnect02\u001b[0;34m()\u001b[0m\n\u001b[1;32m      6\u001b[0m \u001b[38;5;28;01mdef\u001b[39;00m \u001b[38;5;21mconnect02\u001b[39m():\n\u001b[0;32m----> 7\u001b[0m     \u001b[38;5;28;01mraise\u001b[39;00m \u001b[38;5;167;01mNotImplementedError\u001b[39;00m(\u001b[38;5;124m'\u001b[39m\u001b[38;5;124mconnect() is not implemented!\u001b[39m\u001b[38;5;124m'\u001b[39m)\n",
      "\u001b[0;31mNotImplementedError\u001b[0m: connect() is not implemented!"
     ]
    }
   ],
   "source": [
    "def connect():\n",
    "    ...\n",
    "    \n",
    "def connect01():\n",
    "    pass\n",
    "\n",
    "\n",
    "def connect02():\n",
    "    raise NotImplementedError('connect() is not implemented!')\n",
    "    \n",
    "\n",
    "connect()\n",
    "connect01()\n",
    "connect02()"
   ]
  },
  {
   "cell_type": "code",
   "execution_count": 3,
   "id": "47ddef85-f86d-4ced-8798-31f808aa420c",
   "metadata": {},
   "outputs": [
    {
     "name": "stdout",
     "output_type": "stream",
     "text": [
      "A-B-B-d-B-B\n"
     ]
    }
   ],
   "source": [
    "def join_text(*strings, sep: str) -> str:\n",
    "    return sep.join(strings)\n",
    "\n",
    "print(join_text('A' , 'B', 'B', 'd', 'B', 'B', sep='-'))"
   ]
  },
  {
   "cell_type": "code",
   "execution_count": null,
   "id": "47d259e1-481c-42bc-8c65-7c5aaedf69c3",
   "metadata": {},
   "outputs": [],
   "source": []
  }
 ],
 "metadata": {
  "kernelspec": {
   "display_name": "Python 3 (ipykernel)",
   "language": "python",
   "name": "python3"
  },
  "language_info": {
   "codemirror_mode": {
    "name": "ipython",
    "version": 3
   },
   "file_extension": ".py",
   "mimetype": "text/x-python",
   "name": "python",
   "nbconvert_exporter": "python",
   "pygments_lexer": "ipython3",
   "version": "3.12.2"
  }
 },
 "nbformat": 4,
 "nbformat_minor": 5
}
