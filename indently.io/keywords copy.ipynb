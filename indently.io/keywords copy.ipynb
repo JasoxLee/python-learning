{
 "cells": [
  {
   "cell_type": "code",
   "execution_count": 2,
   "id": "2c2957c6-b5da-48a9-af8c-fc102d37d149",
   "metadata": {},
   "outputs": [
    {
     "name": "stdout",
     "output_type": "stream",
     "text": [
      "Keywords\n",
      " 1: False\n",
      " 2: None\n",
      " 3: True\n",
      " 4: and\n",
      " 5: as\n",
      " 6: assert\n",
      " 7: async\n",
      " 8: await\n",
      " 9: break\n",
      "10: class\n",
      "11: continue\n",
      "12: def\n",
      "13: del\n",
      "14: elif\n",
      "15: else\n",
      "16: except\n",
      "17: finally\n",
      "18: for\n",
      "19: from\n",
      "20: global\n",
      "21: if\n",
      "22: import\n",
      "23: in\n",
      "24: is\n",
      "25: lambda\n",
      "26: nonlocal\n",
      "27: not\n",
      "28: or\n",
      "29: pass\n",
      "30: raise\n",
      "31: return\n",
      "32: try\n",
      "33: while\n",
      "34: with\n",
      "35: yield\n",
      "Soft Keywords\n",
      " 1: _\n",
      " 2: case\n",
      " 3: match\n",
      " 4: type\n"
     ]
    }
   ],
   "source": [
    "# python keywords\n",
    "from keyword import kwlist, softkwlist\n",
    "\n",
    "def display_keywords() -> None:\n",
    "    print(f'Keywords')\n",
    "    for i, kw in enumerate(kwlist, start=1):\n",
    "        print(f'{i:2}: {kw}')\n",
    "\n",
    "    print(f'Soft Keywords')\n",
    "    for i, kw in enumerate(softkwlist, start=1):\n",
    "        print(f'{i:2}: {kw}')\n",
    "\n",
    "display_keywords()"
   ]
  },
  {
   "cell_type": "code",
   "execution_count": null,
   "id": "6acff7fd-ebfd-4a95-9fb5-7aee58cdae76",
   "metadata": {},
   "outputs": [],
   "source": []
  }
 ],
 "metadata": {
  "kernelspec": {
   "display_name": "Python 3 (ipykernel)",
   "language": "python",
   "name": "python3"
  },
  "language_info": {
   "codemirror_mode": {
    "name": "ipython",
    "version": 3
   },
   "file_extension": ".py",
   "mimetype": "text/x-python",
   "name": "python",
   "nbconvert_exporter": "python",
   "pygments_lexer": "ipython3",
   "version": "3.12.2"
  }
 },
 "nbformat": 4,
 "nbformat_minor": 5
}
