{
 "cells": [
  {
   "cell_type": "code",
   "execution_count": 1,
   "id": "4a9bb8b8",
   "metadata": {},
   "outputs": [
    {
     "name": "stdout",
     "output_type": "stream",
     "text": [
      "Connecting ...\n",
      "Connected to the internet!\n",
      "WARNING: There's already an instance of connection!\n",
      "Connected to the internet!\n",
      "True\n"
     ]
    }
   ],
   "source": [
    "class Connection:\n",
    "    __instance = None\n",
    "\n",
    "    def __new__(cls, *args, **kwargs):\n",
    "        if cls.__instance is None:\n",
    "            print(\"Connecting ...\")\n",
    "            cls.__instance = super().__new__(cls)\n",
    "            return cls.__instance\n",
    "        else:\n",
    "            print(f'WARNING: There\\'s already an instance of connection!')\n",
    "            return cls.__instance\n",
    "    \n",
    "    def __init__(self) -> None:\n",
    "        print('Connected to the internet!')\n",
    "\n",
    "connection = Connection()\n",
    "connection2 = Connection()\n",
    "\n",
    "print(connection == connection2)"
   ]
  },
  {
   "cell_type": "code",
   "execution_count": null,
   "id": "30efab13",
   "metadata": {},
   "outputs": [],
   "source": [
    "class Vehicle:\n",
    "    def __new__(cls, wheels: int):\n",
    "        if wheels == 2:\n",
    "            return Motorbike()\n",
    "        elif wheels == 4:\n",
    "            return Car()\n",
    "        else:\n",
    "            return super().__new__(cls)\n",
    "    \n",
    "    def __init__(self, wheels: int) -> None:\n",
    "        self.wheels = wheels\n",
    "        print(f'Initializing vehicle with {wheels} wheels')    \n",
    "    \n",
    "class Motorbike:\n",
    "    def __new__(self):\n",
    "        print('Initializing motorbike')\n",
    "    \n",
    "class Car:\n",
    "    def __new__(self):\n",
    "        print('Initializing car')"
   ]
  }
 ],
 "metadata": {
  "kernelspec": {
   "display_name": "Python 3 (ipykernel)",
   "language": "python",
   "name": "python3"
  },
  "language_info": {
   "codemirror_mode": {
    "name": "ipython",
    "version": 3
   },
   "file_extension": ".py",
   "mimetype": "text/x-python",
   "name": "python",
   "nbconvert_exporter": "python",
   "pygments_lexer": "ipython3",
   "version": "3.12.2"
  }
 },
 "nbformat": 4,
 "nbformat_minor": 5
}
