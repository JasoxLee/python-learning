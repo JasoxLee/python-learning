{
 "cells": [
  {
   "cell_type": "code",
   "execution_count": 3,
   "id": "cb93bfdd-3cb5-44d4-8c37-a792092dad63",
   "metadata": {},
   "outputs": [
    {
     "name": "stdout",
     "output_type": "stream",
     "text": [
      "\n",
      "Done!\n"
     ]
    }
   ],
   "source": [
    "r = 10000\n",
    "for i in range(r):\n",
    "    for j in range(r):\n",
    "        k = j * i\n",
    "print(f'\\nDone!')"
   ]
  },
  {
   "cell_type": "code",
   "execution_count": 5,
   "id": "0f21c648-2e0f-45a4-bf4c-e44f0841339d",
   "metadata": {},
   "outputs": [
    {
     "name": "stdout",
     "output_type": "stream",
     "text": [
      "9999.0 / 10000\n",
      "Done!\n"
     ]
    }
   ],
   "source": [
    "# f-string with '\\r'\n",
    "r = 10000\n",
    "for i in range(r):\n",
    "    for j in range(r):\n",
    "        k = j * i\n",
    "    print(f'{i / 1} / {r}', end='\\r')\n",
    "print(f'Done!', end='\\r')"
   ]
  },
  {
   "cell_type": "code",
   "execution_count": 14,
   "id": "e337b690-cb7f-4d62-9e0f-ec6ad273a1d5",
   "metadata": {},
   "outputs": [
    {
     "name": "stdout",
     "output_type": "stream",
     "text": [
      "progress |██████████████████████████████████████████████████| 100%\n",
      "Done!\r"
     ]
    }
   ],
   "source": [
    "# self-made progress bar\n",
    "r = 10000\n",
    "bar = '.'\n",
    "bar = '_'\n",
    "bar = '~'\n",
    "bar = '▄'\n",
    "bar = '█'\n",
    "for i in range(r):\n",
    "    for j in range(r):\n",
    "        k = j * i\n",
    "    print('progress',\n",
    "        f'|{bar * ((i + 1) * 50 // r):50}|',\n",
    "        f'{(i + 1)* 100 // r}%',\n",
    "        end='\\r')\n",
    "print(f'\\nDone!', end='\\r')"
   ]
  },
  {
   "cell_type": "code",
   "execution_count": 15,
   "id": "95496c06-f815-4d41-84b2-d219867dc33b",
   "metadata": {},
   "outputs": [
    {
     "name": "stdout",
     "output_type": "stream",
     "text": [
      "\n",
      "Done!\r"
     ]
    }
   ],
   "source": [
    "# progress lib - pip install progress\n",
    "from progress.bar import Bar\n",
    "r = 10000\n",
    "with Bar('progress', max=r) as bar:\n",
    "    for i in range(r):\n",
    "        for j in range(r):\n",
    "            k = i * j\n",
    "        bar.next()\n",
    "print(f'\\nDone!', end='\\r')\n",
    "        "
   ]
  },
  {
   "cell_type": "code",
   "execution_count": 24,
   "id": "dda9e607-9dd8-47cf-9b56-835c6c556d00",
   "metadata": {},
   "outputs": [
    {
     "name": "stderr",
     "output_type": "stream",
     "text": [
      "\n",
      "\n",
      "  0%|                                                 | 0/10000 [00:00<?, ?it/s]\u001b[A\u001b[A\n",
      "\n",
      "  2%|▊                                    | 224/10000 [00:00<00:04, 2232.51it/s]\u001b[A\u001b[A\n",
      "\n",
      "  5%|█▊                                   | 475/10000 [00:00<00:03, 2393.49it/s]\u001b[A\u001b[A\n",
      "\n",
      "  7%|██▋                                  | 715/10000 [00:00<00:03, 2382.45it/s]\u001b[A\u001b[A\n",
      "\n",
      " 10%|███▌                                 | 954/10000 [00:00<00:03, 2345.09it/s]\u001b[A\u001b[A\n",
      "\n",
      " 12%|████▎                               | 1207/10000 [00:00<00:03, 2408.93it/s]\u001b[A\u001b[A\n",
      "\n",
      " 15%|█████▎                              | 1460/10000 [00:00<00:03, 2447.60it/s]\u001b[A\u001b[A\n",
      "\n",
      " 17%|██████▏                             | 1705/10000 [00:00<00:03, 2445.04it/s]\u001b[A\u001b[A\n",
      "\n",
      " 20%|███████                             | 1959/10000 [00:00<00:03, 2474.31it/s]\u001b[A\u001b[A\n",
      "\n",
      " 22%|███████▉                            | 2207/10000 [00:00<00:03, 2414.84it/s]\u001b[A\u001b[A\n",
      "\n",
      " 25%|████████▊                           | 2454/10000 [00:01<00:03, 2431.41it/s]\u001b[A\u001b[A\n",
      "\n",
      " 27%|█████████▋                          | 2704/10000 [00:01<00:02, 2451.46it/s]\u001b[A\u001b[A\n",
      "\n",
      " 30%|██████████▋                         | 2955/10000 [00:01<00:02, 2466.98it/s]\u001b[A\u001b[A\n",
      "\n",
      " 32%|███████████▌                        | 3202/10000 [00:01<00:02, 2457.91it/s]\u001b[A\u001b[A\n",
      "\n",
      " 34%|████████████▍                       | 3450/10000 [00:01<00:02, 2463.60it/s]\u001b[A\u001b[A\n",
      "\n",
      " 37%|█████████████▎                      | 3697/10000 [00:01<00:02, 2450.87it/s]\u001b[A\u001b[A\n",
      "\n",
      " 39%|██████████████▏                     | 3943/10000 [00:01<00:02, 2441.22it/s]\u001b[A\u001b[A\n",
      "\n",
      " 42%|███████████████                     | 4188/10000 [00:01<00:02, 2406.11it/s]\u001b[A\u001b[A\n",
      "\n",
      " 44%|███████████████▉                    | 4437/10000 [00:01<00:02, 2428.05it/s]\u001b[A\u001b[A\n",
      "\n",
      " 47%|████████████████▉                   | 4690/10000 [00:01<00:02, 2456.86it/s]\u001b[A\u001b[A\n",
      "\n",
      " 49%|█████████████████▊                  | 4941/10000 [00:02<00:02, 2471.71it/s]\u001b[A\u001b[A\n",
      "\n",
      " 52%|██████████████████▋                 | 5194/10000 [00:02<00:01, 2488.28it/s]\u001b[A\u001b[A\n",
      "\n",
      " 54%|███████████████████▌                | 5448/10000 [00:02<00:01, 2502.35it/s]\u001b[A\u001b[A\n",
      "\n",
      " 57%|████████████████████▌               | 5700/10000 [00:02<00:01, 2506.68it/s]\u001b[A\u001b[A\n",
      "\n",
      " 60%|█████████████████████▍              | 5953/10000 [00:02<00:01, 2511.97it/s]\u001b[A\u001b[A\n",
      "\n",
      " 62%|██████████████████████▎             | 6206/10000 [00:02<00:01, 2515.99it/s]\u001b[A\u001b[A\n",
      "\n",
      " 65%|███████████████████████▎            | 6459/10000 [00:02<00:01, 2517.94it/s]\u001b[A\u001b[A\n",
      "\n",
      " 67%|████████████████████████▏           | 6711/10000 [00:02<00:01, 2412.38it/s]\u001b[A\u001b[A\n",
      "\n",
      " 70%|█████████████████████████           | 6957/10000 [00:02<00:01, 2424.92it/s]\u001b[A\u001b[A\n",
      "\n",
      " 72%|█████████████████████████▉          | 7205/10000 [00:02<00:01, 2440.08it/s]\u001b[A\u001b[A\n",
      "\n",
      " 75%|██████████████████████████▊         | 7451/10000 [00:03<00:01, 2444.32it/s]\u001b[A\u001b[A\n",
      "\n",
      " 77%|███████████████████████████▋        | 7699/10000 [00:03<00:00, 2452.35it/s]\u001b[A\u001b[A\n",
      "\n",
      " 80%|████████████████████████████▋       | 7952/10000 [00:03<00:00, 2473.56it/s]\u001b[A\u001b[A\n",
      "\n",
      " 82%|█████████████████████████████▌      | 8206/10000 [00:03<00:00, 2492.89it/s]\u001b[A\u001b[A\n",
      "\n",
      " 85%|██████████████████████████████▍     | 8461/10000 [00:03<00:00, 2509.21it/s]\u001b[A\u001b[A\n",
      "\n",
      " 87%|███████████████████████████████▎    | 8713/10000 [00:03<00:00, 2506.33it/s]\u001b[A\u001b[A\n",
      "\n",
      " 90%|████████████████████████████████▎   | 8968/10000 [00:03<00:00, 2516.82it/s]\u001b[A\u001b[A\n",
      "\n",
      " 92%|█████████████████████████████████▏  | 9220/10000 [00:03<00:00, 2507.91it/s]\u001b[A\u001b[A\n",
      "\n",
      " 95%|██████████████████████████████████  | 9473/10000 [00:03<00:00, 2513.99it/s]\u001b[A\u001b[A\n",
      "\n",
      " 97%|███████████████████████████████████ | 9725/10000 [00:03<00:00, 2436.70it/s]\u001b[A\u001b[A\n",
      "\n",
      "100%|███████████████████████████████████| 10000/10000 [00:04<00:00, 2458.72it/s]\u001b[A\u001b[A\n"
     ]
    }
   ],
   "source": [
    "# tqdm\n",
    "from tqdm import trange\n",
    "#tqdm\n",
    "from time import sleep\n",
    "# from tqdm.rich import trange\n",
    "# from tqdm.notebook import trange\n",
    "# from tqdm.tk import trange\n",
    "r = 10000\n",
    "for i in trange(r):\n",
    "    for j in range(r):\n",
    "        k = i * j\n",
    "# print(f'\\nDone!', end='\\r')\n",
    "\n",
    "\n",
    "\n",
    "\n",
    "\n"
   ]
  },
  {
   "cell_type": "code",
   "execution_count": 26,
   "id": "ff1f007f-ebdb-45d2-9c16-28aa3f39ba6c",
   "metadata": {},
   "outputs": [
    {
     "name": "stderr",
     "output_type": "stream",
     "text": [
      "\n",
      "\n",
      "  0%|                                                   | 0/100 [00:00<?, ?it/s]\u001b[A\u001b[A\n",
      "\n",
      "test01:   0%|                                           | 0/100 [00:00<?, ?it/s]\u001b[A\u001b[A\n",
      "\n",
      "test01:  10%|███▍                              | 10/100 [00:00<00:04, 19.95it/s]\u001b[A\u001b[A\n",
      "\n",
      "test02:  10%|███▍                              | 10/100 [00:00<00:04, 19.95it/s]\u001b[A\u001b[A\n",
      "\n",
      "test02:  20%|██████▊                           | 20/100 [00:01<00:04, 19.80it/s]\u001b[A\u001b[A\n",
      "\n",
      "test03:  20%|██████▊                           | 20/100 [00:01<00:04, 19.80it/s]\u001b[A\u001b[A\n",
      "\n",
      "test03:  35%|███████████▉                      | 35/100 [00:01<00:02, 24.28it/s]\u001b[A\u001b[A\n",
      "\n",
      "test04:  35%|███████████▉                      | 35/100 [00:01<00:02, 24.28it/s]\u001b[A\u001b[A\n",
      "\n",
      "test04:  50%|█████████████████                 | 50/100 [00:02<00:01, 26.32it/s]\u001b[A\u001b[A\n",
      "\n",
      "test05:  50%|█████████████████                 | 50/100 [00:02<00:01, 26.32it/s]\u001b[A\u001b[A\n",
      "\n",
      "test05:  55%|██████████████████▋               | 55/100 [00:02<00:02, 20.39it/s]\u001b[A\u001b[A\n",
      "\n",
      "test06:  55%|██████████████████▋               | 55/100 [00:02<00:02, 20.39it/s]\u001b[A\u001b[A\n",
      "\n",
      "test06: : 115it [00:03, 53.63it/s]                                              \u001b[A\u001b[A\n",
      "\n",
      "test07: : 116it [00:06, 19.20it/s]\u001b[A\u001b[A"
     ]
    },
    {
     "name": "stdout",
     "output_type": "stream",
     "text": [
      "\n",
      "Done!\r"
     ]
    },
    {
     "name": "stderr",
     "output_type": "stream",
     "text": [
      "\n"
     ]
    }
   ],
   "source": [
    "from tqdm import tqdm\n",
    "bar = tqdm(total=100)\n",
    "\n",
    "bar.set_description('test01')\n",
    "sleep(0.5)\n",
    "bar.update(10)\n",
    "\n",
    "bar.set_description('test02')\n",
    "sleep(0.5)\n",
    "bar.update(10)\n",
    "\n",
    "bar.set_description('test03')\n",
    "sleep(0.5)\n",
    "bar.update(15)\n",
    "\n",
    "bar.set_description('test04')\n",
    "sleep(0.5)\n",
    "bar.update(15)\n",
    "\n",
    "bar.set_description('test05')\n",
    "sleep(0.5)\n",
    "bar.update(5)\n",
    "\n",
    "bar.set_description('test06')\n",
    "sleep(0.5)\n",
    "bar.update(60)\n",
    "\n",
    "\n",
    "bar.set_description('test07')\n",
    "sleep(3)\n",
    "bar.update(1)\n",
    "bar.close()\n",
    "\n",
    "print('\\nDone!', end='\\r')"
   ]
  },
  {
   "cell_type": "code",
   "execution_count": null,
   "id": "3c93747d-daad-45df-b8d2-0d608b2a4241",
   "metadata": {},
   "outputs": [],
   "source": [
    "# alive-progress\n",
    "from alive_progress import alive_bar\n",
    "r = 10000\n",
    "with alive_bar(r) as bar:\n",
    "    for i in range(r):\n",
    "        for j in range(r):\n",
    "            k = i * j\n",
    "        bar()\n",
    "print(f'\\nDone!', end='\\r')"
   ]
  },
  {
   "cell_type": "code",
   "execution_count": null,
   "id": "d76e3789-a1ca-4354-96f5-62624d6f7632",
   "metadata": {},
   "outputs": [],
   "source": []
  }
 ],
 "metadata": {
  "kernelspec": {
   "display_name": "Python 3 (ipykernel)",
   "language": "python",
   "name": "python3"
  },
  "language_info": {
   "codemirror_mode": {
    "name": "ipython",
    "version": 3
   },
   "file_extension": ".py",
   "mimetype": "text/x-python",
   "name": "python",
   "nbconvert_exporter": "python",
   "pygments_lexer": "ipython3",
   "version": "3.12.2"
  }
 },
 "nbformat": 4,
 "nbformat_minor": 5
}
